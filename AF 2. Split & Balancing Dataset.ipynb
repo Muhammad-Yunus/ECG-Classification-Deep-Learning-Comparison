{
 "cells": [
  {
   "cell_type": "markdown",
   "metadata": {},
   "source": [
    "# Load dataset\n",
    "\n",
    "**record name , balanced sample**\n",
    "- record 04015 -> 400\n",
    "- record 04043 -> 1000\n",
    "- record 04048 -> 900\n",
    "- record 04908 -> tidak bisa di split karena hanya AF\n",
    "- record 04936 -> 2000\n",
    "- record 05091 -> 1000, class 0 29\n",
    "- record 05121 -> 1000, class 0, 150\n",
    "- record 05261 -> 1000, class 0 105\n",
    "- record 06426 -> 2000\n",
    "- record 06453 -> 300\n",
    "- record 06995 -> 900\n",
    "- record 07910 -> 320\n",
    "- record 08215 -> 400"
   ]
  },
  {
   "cell_type": "code",
   "execution_count": 1,
   "metadata": {},
   "outputs": [],
   "source": [
    "import os\n",
    "\n",
    "dataset_folder = 'dataset/'\n",
    "filenames = []\n",
    "for filename in os.listdir(dataset_folder):\n",
    "    if filename.find('sequence') > -1 :\n",
    "        filenames.append(filename)"
   ]
  },
  {
   "cell_type": "code",
   "execution_count": 2,
   "metadata": {},
   "outputs": [
    {
     "data": {
      "text/plain": [
       "['AFDB_04015_sequence_300_pt.csv',\n",
       " 'AFDB_04043_sequence_300_pt.csv',\n",
       " 'AFDB_04048_sequence_300_pt.csv',\n",
       " 'AFDB_04126_sequence_300_pt.csv',\n",
       " 'AFDB_04908_sequence_300_pt.csv',\n",
       " 'AFDB_04936_sequence_300_pt.csv',\n",
       " 'AFDB_05091_sequence_300_pt.csv',\n",
       " 'AFDB_05121_sequence_300_pt.csv',\n",
       " 'AFDB_05261_sequence_300_pt.csv',\n",
       " 'AFDB_06426_sequence_300_pt.csv',\n",
       " 'AFDB_06453_sequence_300_pt.csv',\n",
       " 'AFDB_06995_sequence_300_pt.csv',\n",
       " 'AFDB_07910_sequence_300_pt.csv',\n",
       " 'AFDB_08215_sequence_300_pt.csv']"
      ]
     },
     "execution_count": 2,
     "metadata": {},
     "output_type": "execute_result"
    }
   ],
   "source": [
    "filenames"
   ]
  },
  {
   "cell_type": "code",
   "execution_count": 3,
   "metadata": {},
   "outputs": [],
   "source": [
    "import pandas as pd\n",
    "import numpy as np \n",
    "import matplotlib.pyplot as plt\n",
    "\n",
    "from sklearn.preprocessing import LabelEncoder\n",
    "from sklearn.model_selection import train_test_split"
   ]
  },
  {
   "cell_type": "markdown",
   "metadata": {},
   "source": [
    "- Split Dataset"
   ]
  },
  {
   "cell_type": "code",
   "execution_count": 4,
   "metadata": {},
   "outputs": [],
   "source": [
    "record = \"04015\""
   ]
  },
  {
   "cell_type": "code",
   "execution_count": 5,
   "metadata": {},
   "outputs": [],
   "source": [
    "ecg_df = pd.read_csv(dataset_folder + 'AFDB_%s_sequence_300_pt.csv' % record, header=None)"
   ]
  },
  {
   "cell_type": "code",
   "execution_count": 6,
   "metadata": {},
   "outputs": [
    {
     "data": {
      "text/html": [
       "<div>\n",
       "<style scoped>\n",
       "    .dataframe tbody tr th:only-of-type {\n",
       "        vertical-align: middle;\n",
       "    }\n",
       "\n",
       "    .dataframe tbody tr th {\n",
       "        vertical-align: top;\n",
       "    }\n",
       "\n",
       "    .dataframe thead th {\n",
       "        text-align: right;\n",
       "    }\n",
       "</style>\n",
       "<table border=\"1\" class=\"dataframe\">\n",
       "  <thead>\n",
       "    <tr style=\"text-align: right;\">\n",
       "      <th></th>\n",
       "      <th>0</th>\n",
       "      <th>1</th>\n",
       "      <th>2</th>\n",
       "      <th>3</th>\n",
       "      <th>4</th>\n",
       "      <th>5</th>\n",
       "      <th>6</th>\n",
       "      <th>7</th>\n",
       "      <th>8</th>\n",
       "      <th>9</th>\n",
       "      <th>...</th>\n",
       "      <th>291</th>\n",
       "      <th>292</th>\n",
       "      <th>293</th>\n",
       "      <th>294</th>\n",
       "      <th>295</th>\n",
       "      <th>296</th>\n",
       "      <th>297</th>\n",
       "      <th>298</th>\n",
       "      <th>299</th>\n",
       "      <th>300</th>\n",
       "    </tr>\n",
       "  </thead>\n",
       "  <tbody>\n",
       "    <tr>\n",
       "      <th>0</th>\n",
       "      <td>0.837998</td>\n",
       "      <td>0.442961</td>\n",
       "      <td>-0.049934</td>\n",
       "      <td>-0.340601</td>\n",
       "      <td>-0.404066</td>\n",
       "      <td>0.072298</td>\n",
       "      <td>0.218148</td>\n",
       "      <td>0.311134</td>\n",
       "      <td>0.328779</td>\n",
       "      <td>0.336140</td>\n",
       "      <td>...</td>\n",
       "      <td>0.0</td>\n",
       "      <td>0.0</td>\n",
       "      <td>0.0</td>\n",
       "      <td>0.0</td>\n",
       "      <td>0.0</td>\n",
       "      <td>0.0</td>\n",
       "      <td>0.0</td>\n",
       "      <td>0.0</td>\n",
       "      <td>0.0</td>\n",
       "      <td>N</td>\n",
       "    </tr>\n",
       "    <tr>\n",
       "      <th>1</th>\n",
       "      <td>0.636554</td>\n",
       "      <td>0.163268</td>\n",
       "      <td>-0.267737</td>\n",
       "      <td>-0.208798</td>\n",
       "      <td>-0.062597</td>\n",
       "      <td>0.043323</td>\n",
       "      <td>0.096475</td>\n",
       "      <td>0.124389</td>\n",
       "      <td>0.142090</td>\n",
       "      <td>0.159600</td>\n",
       "      <td>...</td>\n",
       "      <td>0.0</td>\n",
       "      <td>0.0</td>\n",
       "      <td>0.0</td>\n",
       "      <td>0.0</td>\n",
       "      <td>0.0</td>\n",
       "      <td>0.0</td>\n",
       "      <td>0.0</td>\n",
       "      <td>0.0</td>\n",
       "      <td>0.0</td>\n",
       "      <td>N</td>\n",
       "    </tr>\n",
       "    <tr>\n",
       "      <th>2</th>\n",
       "      <td>0.968192</td>\n",
       "      <td>0.732305</td>\n",
       "      <td>0.271025</td>\n",
       "      <td>-0.150575</td>\n",
       "      <td>-0.317443</td>\n",
       "      <td>-0.204595</td>\n",
       "      <td>-0.057135</td>\n",
       "      <td>0.067434</td>\n",
       "      <td>0.144128</td>\n",
       "      <td>0.167972</td>\n",
       "      <td>...</td>\n",
       "      <td>0.0</td>\n",
       "      <td>0.0</td>\n",
       "      <td>0.0</td>\n",
       "      <td>0.0</td>\n",
       "      <td>0.0</td>\n",
       "      <td>0.0</td>\n",
       "      <td>0.0</td>\n",
       "      <td>0.0</td>\n",
       "      <td>0.0</td>\n",
       "      <td>N</td>\n",
       "    </tr>\n",
       "    <tr>\n",
       "      <th>3</th>\n",
       "      <td>0.785806</td>\n",
       "      <td>0.319584</td>\n",
       "      <td>-0.137108</td>\n",
       "      <td>-0.354224</td>\n",
       "      <td>-0.386825</td>\n",
       "      <td>-0.092358</td>\n",
       "      <td>0.054004</td>\n",
       "      <td>0.169850</td>\n",
       "      <td>0.237713</td>\n",
       "      <td>0.275138</td>\n",
       "      <td>...</td>\n",
       "      <td>0.0</td>\n",
       "      <td>0.0</td>\n",
       "      <td>0.0</td>\n",
       "      <td>0.0</td>\n",
       "      <td>0.0</td>\n",
       "      <td>0.0</td>\n",
       "      <td>0.0</td>\n",
       "      <td>0.0</td>\n",
       "      <td>0.0</td>\n",
       "      <td>N</td>\n",
       "    </tr>\n",
       "    <tr>\n",
       "      <th>4</th>\n",
       "      <td>0.675929</td>\n",
       "      <td>0.257608</td>\n",
       "      <td>-0.466084</td>\n",
       "      <td>-0.109584</td>\n",
       "      <td>-0.005967</td>\n",
       "      <td>0.059874</td>\n",
       "      <td>0.095458</td>\n",
       "      <td>0.118309</td>\n",
       "      <td>0.133442</td>\n",
       "      <td>0.155879</td>\n",
       "      <td>...</td>\n",
       "      <td>0.0</td>\n",
       "      <td>0.0</td>\n",
       "      <td>0.0</td>\n",
       "      <td>0.0</td>\n",
       "      <td>0.0</td>\n",
       "      <td>0.0</td>\n",
       "      <td>0.0</td>\n",
       "      <td>0.0</td>\n",
       "      <td>0.0</td>\n",
       "      <td>N</td>\n",
       "    </tr>\n",
       "  </tbody>\n",
       "</table>\n",
       "<p>5 rows × 301 columns</p>\n",
       "</div>"
      ],
      "text/plain": [
       "        0         1         2         3         4         5         6    \\\n",
       "0  0.837998  0.442961 -0.049934 -0.340601 -0.404066  0.072298  0.218148   \n",
       "1  0.636554  0.163268 -0.267737 -0.208798 -0.062597  0.043323  0.096475   \n",
       "2  0.968192  0.732305  0.271025 -0.150575 -0.317443 -0.204595 -0.057135   \n",
       "3  0.785806  0.319584 -0.137108 -0.354224 -0.386825 -0.092358  0.054004   \n",
       "4  0.675929  0.257608 -0.466084 -0.109584 -0.005967  0.059874  0.095458   \n",
       "\n",
       "        7         8         9    ...  291  292  293  294  295  296  297  298  \\\n",
       "0  0.311134  0.328779  0.336140  ...  0.0  0.0  0.0  0.0  0.0  0.0  0.0  0.0   \n",
       "1  0.124389  0.142090  0.159600  ...  0.0  0.0  0.0  0.0  0.0  0.0  0.0  0.0   \n",
       "2  0.067434  0.144128  0.167972  ...  0.0  0.0  0.0  0.0  0.0  0.0  0.0  0.0   \n",
       "3  0.169850  0.237713  0.275138  ...  0.0  0.0  0.0  0.0  0.0  0.0  0.0  0.0   \n",
       "4  0.118309  0.133442  0.155879  ...  0.0  0.0  0.0  0.0  0.0  0.0  0.0  0.0   \n",
       "\n",
       "   299  300  \n",
       "0  0.0    N  \n",
       "1  0.0    N  \n",
       "2  0.0    N  \n",
       "3  0.0    N  \n",
       "4  0.0    N  \n",
       "\n",
       "[5 rows x 301 columns]"
      ]
     },
     "execution_count": 6,
     "metadata": {},
     "output_type": "execute_result"
    }
   ],
   "source": [
    "ecg_df.head()"
   ]
  },
  {
   "cell_type": "code",
   "execution_count": 7,
   "metadata": {},
   "outputs": [
    {
     "name": "stdout",
     "output_type": "stream",
     "text": [
      " categorical label :  ['AF' 'N']\n"
     ]
    }
   ],
   "source": [
    "X = ecg_df.iloc[:,:300].values\n",
    "y = ecg_df.iloc[:,300].values\n",
    "\n",
    "le = LabelEncoder()\n",
    "le.fit(y)\n",
    "\n",
    "labels = le.classes_\n",
    "print(\" categorical label : \", labels)\n",
    "\n",
    "y = le.transform(y)"
   ]
  },
  {
   "cell_type": "code",
   "execution_count": 8,
   "metadata": {},
   "outputs": [],
   "source": [
    "X_train, X_test, y_train, y_test = train_test_split(\n",
    "                                    X, y, test_size=0.33, random_state=42)"
   ]
  },
  {
   "cell_type": "code",
   "execution_count": 9,
   "metadata": {},
   "outputs": [],
   "source": [
    "train_df = pd.DataFrame(np.hstack((X_train, np.expand_dims(y_train, 1))))\n",
    "test_df = pd.DataFrame(np.hstack((X_test, np.expand_dims(y_test, 1))))"
   ]
  },
  {
   "cell_type": "markdown",
   "metadata": {},
   "source": [
    "- 1 sequence terdiri dari 300 titik data , kolom terakhir merupakan label untuk tiap sequence"
   ]
  },
  {
   "cell_type": "code",
   "execution_count": 10,
   "metadata": {},
   "outputs": [
    {
     "data": {
      "text/html": [
       "<div>\n",
       "<style scoped>\n",
       "    .dataframe tbody tr th:only-of-type {\n",
       "        vertical-align: middle;\n",
       "    }\n",
       "\n",
       "    .dataframe tbody tr th {\n",
       "        vertical-align: top;\n",
       "    }\n",
       "\n",
       "    .dataframe thead th {\n",
       "        text-align: right;\n",
       "    }\n",
       "</style>\n",
       "<table border=\"1\" class=\"dataframe\">\n",
       "  <thead>\n",
       "    <tr style=\"text-align: right;\">\n",
       "      <th></th>\n",
       "      <th>0</th>\n",
       "      <th>1</th>\n",
       "      <th>2</th>\n",
       "      <th>3</th>\n",
       "      <th>4</th>\n",
       "      <th>5</th>\n",
       "      <th>6</th>\n",
       "      <th>7</th>\n",
       "      <th>8</th>\n",
       "      <th>9</th>\n",
       "      <th>...</th>\n",
       "      <th>291</th>\n",
       "      <th>292</th>\n",
       "      <th>293</th>\n",
       "      <th>294</th>\n",
       "      <th>295</th>\n",
       "      <th>296</th>\n",
       "      <th>297</th>\n",
       "      <th>298</th>\n",
       "      <th>299</th>\n",
       "      <th>300</th>\n",
       "    </tr>\n",
       "  </thead>\n",
       "  <tbody>\n",
       "    <tr>\n",
       "      <th>0</th>\n",
       "      <td>0.866196</td>\n",
       "      <td>0.458539</td>\n",
       "      <td>-0.053484</td>\n",
       "      <td>-0.030617</td>\n",
       "      <td>-0.017928</td>\n",
       "      <td>0.011495</td>\n",
       "      <td>0.040826</td>\n",
       "      <td>0.019593</td>\n",
       "      <td>0.052095</td>\n",
       "      <td>0.054213</td>\n",
       "      <td>...</td>\n",
       "      <td>0.0</td>\n",
       "      <td>0.0</td>\n",
       "      <td>0.0</td>\n",
       "      <td>0.0</td>\n",
       "      <td>0.0</td>\n",
       "      <td>0.0</td>\n",
       "      <td>0.0</td>\n",
       "      <td>0.0</td>\n",
       "      <td>0.0</td>\n",
       "      <td>1.0</td>\n",
       "    </tr>\n",
       "    <tr>\n",
       "      <th>1</th>\n",
       "      <td>0.838793</td>\n",
       "      <td>0.594240</td>\n",
       "      <td>-0.001390</td>\n",
       "      <td>-0.245688</td>\n",
       "      <td>-0.020477</td>\n",
       "      <td>0.120405</td>\n",
       "      <td>0.197224</td>\n",
       "      <td>0.237000</td>\n",
       "      <td>0.239735</td>\n",
       "      <td>0.232448</td>\n",
       "      <td>...</td>\n",
       "      <td>0.0</td>\n",
       "      <td>0.0</td>\n",
       "      <td>0.0</td>\n",
       "      <td>0.0</td>\n",
       "      <td>0.0</td>\n",
       "      <td>0.0</td>\n",
       "      <td>0.0</td>\n",
       "      <td>0.0</td>\n",
       "      <td>0.0</td>\n",
       "      <td>1.0</td>\n",
       "    </tr>\n",
       "    <tr>\n",
       "      <th>2</th>\n",
       "      <td>0.225900</td>\n",
       "      <td>0.363714</td>\n",
       "      <td>0.588477</td>\n",
       "      <td>0.816516</td>\n",
       "      <td>0.863081</td>\n",
       "      <td>0.201842</td>\n",
       "      <td>-0.383011</td>\n",
       "      <td>-0.260647</td>\n",
       "      <td>-0.065412</td>\n",
       "      <td>0.080731</td>\n",
       "      <td>...</td>\n",
       "      <td>0.0</td>\n",
       "      <td>0.0</td>\n",
       "      <td>0.0</td>\n",
       "      <td>0.0</td>\n",
       "      <td>0.0</td>\n",
       "      <td>0.0</td>\n",
       "      <td>0.0</td>\n",
       "      <td>0.0</td>\n",
       "      <td>0.0</td>\n",
       "      <td>1.0</td>\n",
       "    </tr>\n",
       "    <tr>\n",
       "      <th>3</th>\n",
       "      <td>0.851872</td>\n",
       "      <td>0.373015</td>\n",
       "      <td>-0.277078</td>\n",
       "      <td>-0.357510</td>\n",
       "      <td>-0.126459</td>\n",
       "      <td>0.047289</td>\n",
       "      <td>0.143643</td>\n",
       "      <td>0.199506</td>\n",
       "      <td>0.228312</td>\n",
       "      <td>0.250200</td>\n",
       "      <td>...</td>\n",
       "      <td>0.0</td>\n",
       "      <td>0.0</td>\n",
       "      <td>0.0</td>\n",
       "      <td>0.0</td>\n",
       "      <td>0.0</td>\n",
       "      <td>0.0</td>\n",
       "      <td>0.0</td>\n",
       "      <td>0.0</td>\n",
       "      <td>0.0</td>\n",
       "      <td>1.0</td>\n",
       "    </tr>\n",
       "    <tr>\n",
       "      <th>4</th>\n",
       "      <td>0.243932</td>\n",
       "      <td>0.330563</td>\n",
       "      <td>0.493020</td>\n",
       "      <td>0.731287</td>\n",
       "      <td>0.644065</td>\n",
       "      <td>0.022791</td>\n",
       "      <td>-0.257318</td>\n",
       "      <td>-0.101495</td>\n",
       "      <td>-0.005816</td>\n",
       "      <td>0.067648</td>\n",
       "      <td>...</td>\n",
       "      <td>0.0</td>\n",
       "      <td>0.0</td>\n",
       "      <td>0.0</td>\n",
       "      <td>0.0</td>\n",
       "      <td>0.0</td>\n",
       "      <td>0.0</td>\n",
       "      <td>0.0</td>\n",
       "      <td>0.0</td>\n",
       "      <td>0.0</td>\n",
       "      <td>1.0</td>\n",
       "    </tr>\n",
       "  </tbody>\n",
       "</table>\n",
       "<p>5 rows × 301 columns</p>\n",
       "</div>"
      ],
      "text/plain": [
       "        0         1         2         3         4         5         6    \\\n",
       "0  0.866196  0.458539 -0.053484 -0.030617 -0.017928  0.011495  0.040826   \n",
       "1  0.838793  0.594240 -0.001390 -0.245688 -0.020477  0.120405  0.197224   \n",
       "2  0.225900  0.363714  0.588477  0.816516  0.863081  0.201842 -0.383011   \n",
       "3  0.851872  0.373015 -0.277078 -0.357510 -0.126459  0.047289  0.143643   \n",
       "4  0.243932  0.330563  0.493020  0.731287  0.644065  0.022791 -0.257318   \n",
       "\n",
       "        7         8         9    ...  291  292  293  294  295  296  297  298  \\\n",
       "0  0.019593  0.052095  0.054213  ...  0.0  0.0  0.0  0.0  0.0  0.0  0.0  0.0   \n",
       "1  0.237000  0.239735  0.232448  ...  0.0  0.0  0.0  0.0  0.0  0.0  0.0  0.0   \n",
       "2 -0.260647 -0.065412  0.080731  ...  0.0  0.0  0.0  0.0  0.0  0.0  0.0  0.0   \n",
       "3  0.199506  0.228312  0.250200  ...  0.0  0.0  0.0  0.0  0.0  0.0  0.0  0.0   \n",
       "4 -0.101495 -0.005816  0.067648  ...  0.0  0.0  0.0  0.0  0.0  0.0  0.0  0.0   \n",
       "\n",
       "   299  300  \n",
       "0  0.0  1.0  \n",
       "1  0.0  1.0  \n",
       "2  0.0  1.0  \n",
       "3  0.0  1.0  \n",
       "4  0.0  1.0  \n",
       "\n",
       "[5 rows x 301 columns]"
      ]
     },
     "execution_count": 10,
     "metadata": {},
     "output_type": "execute_result"
    }
   ],
   "source": [
    "train_df.head()"
   ]
  },
  {
   "cell_type": "markdown",
   "metadata": {},
   "source": [
    "## Balancing Dataset\n",
    "Untuk kebutuhan training model, kita akan atur agar sample tiap class memiliki proporsi yang sama."
   ]
  },
  {
   "cell_type": "code",
   "execution_count": 11,
   "metadata": {},
   "outputs": [
    {
     "name": "stdout",
     "output_type": "stream",
     "text": [
      "1    4996\n",
      "0     299\n",
      "Name: 300, dtype: int64\n"
     ]
    }
   ],
   "source": [
    "#print dataset distribution\n",
    "\n",
    "train_df[300]=train_df[300].astype(int)\n",
    "equilibre=train_df[300].value_counts()\n",
    "\n",
    "print(equilibre)"
   ]
  },
  {
   "cell_type": "markdown",
   "metadata": {},
   "source": [
    "- Terlihat jika tiap katerogi memiliki jumlah sample yang berbeda."
   ]
  },
  {
   "cell_type": "code",
   "execution_count": 13,
   "metadata": {},
   "outputs": [
    {
     "data": {
      "image/png": "[encoded data removed]",
      "text/plain": [
       "<Figure size 720x360 with 1 Axes>"
      ]
     },
     "metadata": {},
     "output_type": "display_data"
    }
   ],
   "source": [
    "plt.figure(figsize=(10,5))\n",
    "\n",
    "my_circle = plt.Circle( (0,0), 0.7, color='white')\n",
    "plt.pie(equilibre, \n",
    "        labels=labels, \n",
    "        colors=['red','green'],\n",
    "        autopct='%1.1f%%')\n",
    "\n",
    "p = plt.gcf()\n",
    "p.gca().add_artist(my_circle)\n",
    "plt.show()"
   ]
  },
  {
   "cell_type": "markdown",
   "metadata": {},
   "source": [
    "- kita akan membuat seluruh class memiliki jumlah sample sebanyak 20000. \n",
    "- Sehingga untuk class `0` yang memiliki sample 72471, akan dilakukan pemilihan acak sebanyak 20000 dengan menggunakan Pandas Dataframe `.sample()`.\n",
    "- Untuk class lainya, karena dibawah 20000 sample, akan diterapkan proses upsampling menjadi 20000 sample menggunakan sklearn `resample()`."
   ]
  },
  {
   "cell_type": "code",
   "execution_count": 14,
   "metadata": {},
   "outputs": [],
   "source": [
    "# sampling and resampling dataset\n",
    "\n",
    "from sklearn.utils import resample\n",
    "n_samples = 4000 \n",
    "random_states = [42, 123]\n",
    "\n",
    "dfs = []\n",
    "\n",
    "for i in range(len(equilibre)):\n",
    "    dfs.append(train_df[train_df[300]==i])\n",
    "    if(equilibre[i] > n_samples) :\n",
    "        dfs[i]=dfs[i].sample(n=n_samples ,random_state=random_states[i])\n",
    "    else :\n",
    "        dfs[i]=resample(dfs[i],replace=True,n_samples=n_samples,random_state=random_states[i])\n",
    "\n",
    "train_df=pd.concat(dfs)"
   ]
  },
  {
   "cell_type": "code",
   "execution_count": 15,
   "metadata": {},
   "outputs": [
    {
     "data": {
      "text/html": [
       "<div>\n",
       "<style scoped>\n",
       "    .dataframe tbody tr th:only-of-type {\n",
       "        vertical-align: middle;\n",
       "    }\n",
       "\n",
       "    .dataframe tbody tr th {\n",
       "        vertical-align: top;\n",
       "    }\n",
       "\n",
       "    .dataframe thead th {\n",
       "        text-align: right;\n",
       "    }\n",
       "</style>\n",
       "<table border=\"1\" class=\"dataframe\">\n",
       "  <thead>\n",
       "    <tr style=\"text-align: right;\">\n",
       "      <th></th>\n",
       "      <th>0</th>\n",
       "      <th>1</th>\n",
       "      <th>2</th>\n",
       "      <th>3</th>\n",
       "      <th>4</th>\n",
       "      <th>5</th>\n",
       "      <th>6</th>\n",
       "      <th>7</th>\n",
       "      <th>8</th>\n",
       "      <th>9</th>\n",
       "      <th>...</th>\n",
       "      <th>291</th>\n",
       "      <th>292</th>\n",
       "      <th>293</th>\n",
       "      <th>294</th>\n",
       "      <th>295</th>\n",
       "      <th>296</th>\n",
       "      <th>297</th>\n",
       "      <th>298</th>\n",
       "      <th>299</th>\n",
       "      <th>300</th>\n",
       "    </tr>\n",
       "  </thead>\n",
       "  <tbody>\n",
       "    <tr>\n",
       "      <th>1914</th>\n",
       "      <td>0.706665</td>\n",
       "      <td>0.441993</td>\n",
       "      <td>-0.335136</td>\n",
       "      <td>-0.354199</td>\n",
       "      <td>0.083231</td>\n",
       "      <td>0.161181</td>\n",
       "      <td>0.194547</td>\n",
       "      <td>0.227699</td>\n",
       "      <td>0.234053</td>\n",
       "      <td>0.238023</td>\n",
       "      <td>...</td>\n",
       "      <td>0.0</td>\n",
       "      <td>0.0</td>\n",
       "      <td>0.0</td>\n",
       "      <td>0.0</td>\n",
       "      <td>0.0</td>\n",
       "      <td>0.0</td>\n",
       "      <td>0.0</td>\n",
       "      <td>0.0</td>\n",
       "      <td>0.0</td>\n",
       "      <td>0</td>\n",
       "    </tr>\n",
       "    <tr>\n",
       "      <th>4889</th>\n",
       "      <td>0.804495</td>\n",
       "      <td>0.603068</td>\n",
       "      <td>0.117173</td>\n",
       "      <td>-0.311544</td>\n",
       "      <td>-0.392230</td>\n",
       "      <td>-0.256519</td>\n",
       "      <td>-0.075259</td>\n",
       "      <td>0.047684</td>\n",
       "      <td>0.130819</td>\n",
       "      <td>0.190345</td>\n",
       "      <td>...</td>\n",
       "      <td>0.0</td>\n",
       "      <td>0.0</td>\n",
       "      <td>0.0</td>\n",
       "      <td>0.0</td>\n",
       "      <td>0.0</td>\n",
       "      <td>0.0</td>\n",
       "      <td>0.0</td>\n",
       "      <td>0.0</td>\n",
       "      <td>0.0</td>\n",
       "      <td>0</td>\n",
       "    </tr>\n",
       "    <tr>\n",
       "      <th>1945</th>\n",
       "      <td>0.839429</td>\n",
       "      <td>0.463075</td>\n",
       "      <td>-0.004308</td>\n",
       "      <td>-0.284664</td>\n",
       "      <td>-0.331693</td>\n",
       "      <td>-0.246960</td>\n",
       "      <td>-0.149652</td>\n",
       "      <td>-0.013256</td>\n",
       "      <td>0.107088</td>\n",
       "      <td>0.202592</td>\n",
       "      <td>...</td>\n",
       "      <td>0.0</td>\n",
       "      <td>0.0</td>\n",
       "      <td>0.0</td>\n",
       "      <td>0.0</td>\n",
       "      <td>0.0</td>\n",
       "      <td>0.0</td>\n",
       "      <td>0.0</td>\n",
       "      <td>0.0</td>\n",
       "      <td>0.0</td>\n",
       "      <td>0</td>\n",
       "    </tr>\n",
       "    <tr>\n",
       "      <th>1302</th>\n",
       "      <td>0.670036</td>\n",
       "      <td>0.339502</td>\n",
       "      <td>-0.095013</td>\n",
       "      <td>-0.363863</td>\n",
       "      <td>-0.241190</td>\n",
       "      <td>-0.081987</td>\n",
       "      <td>0.030779</td>\n",
       "      <td>0.092521</td>\n",
       "      <td>0.130923</td>\n",
       "      <td>0.159838</td>\n",
       "      <td>...</td>\n",
       "      <td>0.0</td>\n",
       "      <td>0.0</td>\n",
       "      <td>0.0</td>\n",
       "      <td>0.0</td>\n",
       "      <td>0.0</td>\n",
       "      <td>0.0</td>\n",
       "      <td>0.0</td>\n",
       "      <td>0.0</td>\n",
       "      <td>0.0</td>\n",
       "      <td>0</td>\n",
       "    </tr>\n",
       "    <tr>\n",
       "      <th>3281</th>\n",
       "      <td>0.831013</td>\n",
       "      <td>0.682709</td>\n",
       "      <td>0.348238</td>\n",
       "      <td>-0.024871</td>\n",
       "      <td>-0.256011</td>\n",
       "      <td>-0.294346</td>\n",
       "      <td>-0.254415</td>\n",
       "      <td>-0.171844</td>\n",
       "      <td>-0.046613</td>\n",
       "      <td>0.060245</td>\n",
       "      <td>...</td>\n",
       "      <td>0.0</td>\n",
       "      <td>0.0</td>\n",
       "      <td>0.0</td>\n",
       "      <td>0.0</td>\n",
       "      <td>0.0</td>\n",
       "      <td>0.0</td>\n",
       "      <td>0.0</td>\n",
       "      <td>0.0</td>\n",
       "      <td>0.0</td>\n",
       "      <td>0</td>\n",
       "    </tr>\n",
       "  </tbody>\n",
       "</table>\n",
       "<p>5 rows × 301 columns</p>\n",
       "</div>"
      ],
      "text/plain": [
       "           0         1         2         3         4         5         6    \\\n",
       "1914  0.706665  0.441993 -0.335136 -0.354199  0.083231  0.161181  0.194547   \n",
       "4889  0.804495  0.603068  0.117173 -0.311544 -0.392230 -0.256519 -0.075259   \n",
       "1945  0.839429  0.463075 -0.004308 -0.284664 -0.331693 -0.246960 -0.149652   \n",
       "1302  0.670036  0.339502 -0.095013 -0.363863 -0.241190 -0.081987  0.030779   \n",
       "3281  0.831013  0.682709  0.348238 -0.024871 -0.256011 -0.294346 -0.254415   \n",
       "\n",
       "           7         8         9    ...  291  292  293  294  295  296  297  \\\n",
       "1914  0.227699  0.234053  0.238023  ...  0.0  0.0  0.0  0.0  0.0  0.0  0.0   \n",
       "4889  0.047684  0.130819  0.190345  ...  0.0  0.0  0.0  0.0  0.0  0.0  0.0   \n",
       "1945 -0.013256  0.107088  0.202592  ...  0.0  0.0  0.0  0.0  0.0  0.0  0.0   \n",
       "1302  0.092521  0.130923  0.159838  ...  0.0  0.0  0.0  0.0  0.0  0.0  0.0   \n",
       "3281 -0.171844 -0.046613  0.060245  ...  0.0  0.0  0.0  0.0  0.0  0.0  0.0   \n",
       "\n",
       "      298  299  300  \n",
       "1914  0.0  0.0    0  \n",
       "4889  0.0  0.0    0  \n",
       "1945  0.0  0.0    0  \n",
       "1302  0.0  0.0    0  \n",
       "3281  0.0  0.0    0  \n",
       "\n",
       "[5 rows x 301 columns]"
      ]
     },
     "execution_count": 15,
     "metadata": {},
     "output_type": "execute_result"
    }
   ],
   "source": [
    "train_df.head()"
   ]
  },
  {
   "cell_type": "markdown",
   "metadata": {},
   "source": [
    "Sekarang kita memiliki dataset yang sudah balance."
   ]
  },
  {
   "cell_type": "code",
   "execution_count": 16,
   "metadata": {},
   "outputs": [
    {
     "name": "stdout",
     "output_type": "stream",
     "text": [
      "1    4000\n",
      "0    4000\n",
      "Name: 300, dtype: int64\n"
     ]
    }
   ],
   "source": [
    "# cek balanced dataset\n",
    "\n",
    "equilibre=train_df[300].value_counts()\n",
    "\n",
    "print(equilibre)"
   ]
  },
  {
   "cell_type": "markdown",
   "metadata": {},
   "source": [
    "## Understanding ECG Signal\n",
    "- Sekarang kita ambil 1 sample tiap class untuk melihat profile heart beat masing-masing class.\n",
    "- Ini berguna untuk kita agar dapat memahami karakteristik sinyal ECG untuk tiap class.\n",
    "- Task ini mudah dilakukan menggunakan pandas,  `.groupby()` pada kolom 187 (kolom class) dan dengan menggunakan fungsi `.apply()` kita ambil 1 sample data menggunakan `.sample()`."
   ]
  },
  {
   "cell_type": "code",
   "execution_count": 17,
   "metadata": {},
   "outputs": [],
   "source": [
    "ECG_PER_CLASS =train_df.groupby(300,group_keys=False).apply(lambda train_df : train_df.sample(1))"
   ]
  },
  {
   "cell_type": "code",
   "execution_count": 18,
   "metadata": {},
   "outputs": [
    {
     "data": {
      "text/html": [
       "<div>\n",
       "<style scoped>\n",
       "    .dataframe tbody tr th:only-of-type {\n",
       "        vertical-align: middle;\n",
       "    }\n",
       "\n",
       "    .dataframe tbody tr th {\n",
       "        vertical-align: top;\n",
       "    }\n",
       "\n",
       "    .dataframe thead th {\n",
       "        text-align: right;\n",
       "    }\n",
       "</style>\n",
       "<table border=\"1\" class=\"dataframe\">\n",
       "  <thead>\n",
       "    <tr style=\"text-align: right;\">\n",
       "      <th></th>\n",
       "      <th>0</th>\n",
       "      <th>1</th>\n",
       "      <th>2</th>\n",
       "      <th>3</th>\n",
       "      <th>4</th>\n",
       "      <th>5</th>\n",
       "      <th>6</th>\n",
       "      <th>7</th>\n",
       "      <th>8</th>\n",
       "      <th>9</th>\n",
       "      <th>...</th>\n",
       "      <th>291</th>\n",
       "      <th>292</th>\n",
       "      <th>293</th>\n",
       "      <th>294</th>\n",
       "      <th>295</th>\n",
       "      <th>296</th>\n",
       "      <th>297</th>\n",
       "      <th>298</th>\n",
       "      <th>299</th>\n",
       "      <th>300</th>\n",
       "    </tr>\n",
       "  </thead>\n",
       "  <tbody>\n",
       "    <tr>\n",
       "      <th>3804</th>\n",
       "      <td>0.771291</td>\n",
       "      <td>0.381557</td>\n",
       "      <td>-0.041922</td>\n",
       "      <td>-0.280686</td>\n",
       "      <td>-0.334792</td>\n",
       "      <td>-0.261658</td>\n",
       "      <td>-0.171645</td>\n",
       "      <td>-0.02941</td>\n",
       "      <td>0.118739</td>\n",
       "      <td>0.237531</td>\n",
       "      <td>...</td>\n",
       "      <td>0.0</td>\n",
       "      <td>0.0</td>\n",
       "      <td>0.0</td>\n",
       "      <td>0.0</td>\n",
       "      <td>0.0</td>\n",
       "      <td>0.0</td>\n",
       "      <td>0.0</td>\n",
       "      <td>0.0</td>\n",
       "      <td>0.0</td>\n",
       "      <td>0</td>\n",
       "    </tr>\n",
       "    <tr>\n",
       "      <th>4617</th>\n",
       "      <td>0.849998</td>\n",
       "      <td>0.830163</td>\n",
       "      <td>0.340864</td>\n",
       "      <td>-0.203976</td>\n",
       "      <td>-0.256797</td>\n",
       "      <td>-0.094667</td>\n",
       "      <td>0.024924</td>\n",
       "      <td>0.07592</td>\n",
       "      <td>0.123532</td>\n",
       "      <td>0.164518</td>\n",
       "      <td>...</td>\n",
       "      <td>0.0</td>\n",
       "      <td>0.0</td>\n",
       "      <td>0.0</td>\n",
       "      <td>0.0</td>\n",
       "      <td>0.0</td>\n",
       "      <td>0.0</td>\n",
       "      <td>0.0</td>\n",
       "      <td>0.0</td>\n",
       "      <td>0.0</td>\n",
       "      <td>1</td>\n",
       "    </tr>\n",
       "  </tbody>\n",
       "</table>\n",
       "<p>2 rows × 301 columns</p>\n",
       "</div>"
      ],
      "text/plain": [
       "           0         1         2         3         4         5         6    \\\n",
       "3804  0.771291  0.381557 -0.041922 -0.280686 -0.334792 -0.261658 -0.171645   \n",
       "4617  0.849998  0.830163  0.340864 -0.203976 -0.256797 -0.094667  0.024924   \n",
       "\n",
       "          7         8         9    ...  291  292  293  294  295  296  297  \\\n",
       "3804 -0.02941  0.118739  0.237531  ...  0.0  0.0  0.0  0.0  0.0  0.0  0.0   \n",
       "4617  0.07592  0.123532  0.164518  ...  0.0  0.0  0.0  0.0  0.0  0.0  0.0   \n",
       "\n",
       "      298  299  300  \n",
       "3804  0.0  0.0    0  \n",
       "4617  0.0  0.0    1  \n",
       "\n",
       "[2 rows x 301 columns]"
      ]
     },
     "execution_count": 18,
     "metadata": {},
     "output_type": "execute_result"
    }
   ],
   "source": [
    "ECG_PER_CLASS"
   ]
  },
  {
   "cell_type": "markdown",
   "metadata": {},
   "source": [
    "- Pertama kita plot tiap sample pada dataframe `ECG_PER_CLASS` menggunakan pandas `.plot()`.\n",
    "- Setelah itu kita plot 2D histogram untuk keseluruhan sample ECG tiap class menggunakan fungsi `plot_hist()` yang kita buat dibawah.\n",
    "- Pada plot histogram, daerah dengan intensitas lebih terang menandakan banyak titik sample pada waktu dan nilai ECG tersebut.\n",
    "- Sebaliknya untuk daerah yang lebih gelap."
   ]
  },
  {
   "cell_type": "code",
   "execution_count": 19,
   "metadata": {},
   "outputs": [],
   "source": [
    "def plot_1_sample(class_number, fs=250):\n",
    "    data = ECG_PER_CLASS.iloc[class_number,:300]\n",
    "    times = np.arange(data.shape[0], dtype='float') / fs * 1000\n",
    "    \n",
    "    plt.plot(times, data)\n",
    "    plt.title(\"Plot 1 sample in class \" + str(class_number))\n",
    "    plt.xlabel(\"Time (ms)\")\n",
    "    plt.ylabel(\"Normalized Value\")\n",
    "    plt.show()"
   ]
  },
  {
   "cell_type": "code",
   "execution_count": 20,
   "metadata": {},
   "outputs": [],
   "source": [
    "def plot_hist(class_number, min_, size, fs=250):\n",
    "    # filter data berdasarkan class_number \n",
    "    ECG=train_df.loc[train_df[300]==class_number].values\n",
    "    \n",
    "    # scale tm value (*1000) agar bisa ditampilkan dalam satuam (ms)\n",
    "    tm = np.arange(ECG.shape[1], dtype='float') / fs * 1000\n",
    "    \n",
    "    # ambil data hanya pada kolom `min_` sampai `size`\n",
    "    # convert ke 1D array\n",
    "    ECG=ECG[:,min_:size]\n",
    "    ECG_flatten=ECG.flatten()\n",
    "    \n",
    "    # generate time data untuk tiap kolom sample, \n",
    "    # ulang sebanyak ECG.shape[0]\n",
    "    times = np.tile(tm[min_:size], ECG.shape[0]) \n",
    "\n",
    "    # plot sebagai 2D histogram\n",
    "    plt.hist2d(times, ECG_flatten, bins=(80,80), cmap=plt.cm.jet)\n",
    "    plt.title(\"2D histogram on class \" + str(class_number))\n",
    "    plt.xlabel(\"Time (ms)\")\n",
    "    plt.ylabel(\"Normalized Value\")\n",
    "    plt.show()"
   ]
  },
  {
   "cell_type": "code",
   "execution_count": 21,
   "metadata": {},
   "outputs": [
    {
     "data": {
      "image/png": "[encoded data removed]",
      "text/plain": [
       "<Figure size 432x288 with 1 Axes>"
      ]
     },
     "metadata": {
      "needs_background": "light"
     },
     "output_type": "display_data"
    }
   ],
   "source": [
    "plot_1_sample(class_number=0)"
   ]
  },
  {
   "cell_type": "code",
   "execution_count": 25,
   "metadata": {},
   "outputs": [
    {
     "data": {
      "image/png": "[encoded data removed]",
      "text/plain": [
       "<Figure size 432x288 with 1 Axes>"
      ]
     },
     "metadata": {
      "needs_background": "light"
     },
     "output_type": "display_data"
    }
   ],
   "source": [
    "plot_hist(class_number=0, min_=0, size=80)"
   ]
  },
  {
   "cell_type": "code",
   "execution_count": 32,
   "metadata": {},
   "outputs": [
    {
     "data": {
      "image/png": "[encoded data removed]",
      "text/plain": [
       "<Figure size 432x288 with 1 Axes>"
      ]
     },
     "metadata": {
      "needs_background": "light"
     },
     "output_type": "display_data"
    }
   ],
   "source": [
    "plot_1_sample(class_number=1)"
   ]
  },
  {
   "cell_type": "code",
   "execution_count": 33,
   "metadata": {},
   "outputs": [
    {
     "data": {
      "image/png": "[encoded data removed]",
      "text/plain": [
       "<Figure size 432x288 with 1 Axes>"
      ]
     },
     "metadata": {
      "needs_background": "light"
     },
     "output_type": "display_data"
    }
   ],
   "source": [
    "plot_hist(class_number=1, min_=0, size=80)"
   ]
  },
  {
   "cell_type": "markdown",
   "metadata": {},
   "source": [
    "### Save Balanced Training Data and Test Data"
   ]
  },
  {
   "cell_type": "code",
   "execution_count": 24,
   "metadata": {},
   "outputs": [],
   "source": [
    "train_df.to_csv(dataset_folder + \"train_AFDB_%s_balanced.csv\" % record, header=None, index=None)\n",
    "test_df.to_csv(dataset_folder + \"test_AFDB_%s.csv\" % record, header=None, index=None)"
   ]
  },
  {
   "cell_type": "code",
   "execution_count": null,
   "metadata": {},
   "outputs": [],
   "source": []
  }
 ],
 "metadata": {
  "kernelspec": {
   "display_name": "Python [conda env:GPU_ENV]",
   "language": "python",
   "name": "conda-env-GPU_ENV-py"
  },
  "language_info": {
   "codemirror_mode": {
    "name": "ipython",
    "version": 3
   },
   "file_extension": ".py",
   "mimetype": "text/x-python",
   "name": "python",
   "nbconvert_exporter": "python",
   "pygments_lexer": "ipython3",
   "version": "3.6.12"
  }
 },
 "nbformat": 4,
 "nbformat_minor": 4
}
