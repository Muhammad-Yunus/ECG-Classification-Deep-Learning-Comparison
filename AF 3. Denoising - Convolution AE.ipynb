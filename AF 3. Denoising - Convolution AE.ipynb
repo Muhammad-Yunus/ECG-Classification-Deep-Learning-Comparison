{
 "cells": [
  {
   "cell_type": "markdown",
   "metadata": {},
   "source": [
    "### Library install :\n",
    "- Python : `3.6`\n",
    "- `conda install numpy`\n",
    "- `conda install matplotlib`\n",
    "- `conda install pandas`\n",
    "- `conda instal scikit-learn`\n",
    "- Opsi Tensorflow (**pilih salah satu**) :\n",
    "    - `pip install tensorflow-gpu==1.12 --user` --> TF GPU | CUDA 9.0 | CuDNN 7.0 | GPU Driver Ver >= 385.xx\n",
    "    - `pip install tensorflow-gpu==2.1 --user` --> TF GPU | CUDA 10.0 | CuDNN 7.6 | GPU Driver Ver >= 411.xx\n",
    "    - `pip install tensorflow==2.1 --user` --> TF CPU\n",
    "- `conda install keras`\n",
    "- `conda install -c conda-forge ipykernel`"
   ]
  },
  {
   "cell_type": "code",
   "execution_count": 3,
   "metadata": {},
   "outputs": [],
   "source": [
    "import os\n",
    "# if GPU is not available, just disable GPU \n",
    "# os.environ['CUDA_VISIBLE_DEVICES'] = '-1'\n",
    "\n",
    "dataset_folder = 'dataset/'\n",
    "filenames = []\n",
    "for filename in os.listdir(dataset_folder):\n",
    "    if filename.find(\"_all.csv\") > -1:\n",
    "        filenames.append(filename)"
   ]
  },
  {
   "cell_type": "code",
   "execution_count": 4,
   "metadata": {},
   "outputs": [
    {
     "data": {
      "text/plain": [
       "['test_all.csv', 'train_all.csv']"
      ]
     },
     "execution_count": 4,
     "metadata": {},
     "output_type": "execute_result"
    }
   ],
   "source": [
    "filenames"
   ]
  },
  {
   "cell_type": "code",
   "execution_count": 5,
   "metadata": {},
   "outputs": [
    {
     "name": "stdout",
     "output_type": "stream",
     "text": [
      "[_DeviceAttributes(/job:localhost/replica:0/task:0/device:CPU:0, CPU, 268435456, 15533954855821885768), _DeviceAttributes(/job:localhost/replica:0/task:0/device:GPU:0, GPU, 1502406247, 11232139610205995863)]\n"
     ]
    }
   ],
   "source": [
    "# check available GPU\n",
    "import tensorflow as tf\n",
    "\n",
    "# tensorflow  2.x \n",
    "#tf.config.list_physical_devices('GPU') \n",
    "\n",
    "# tensorflow 1.x\n",
    "with tf.Session() as sess:\n",
    "    print(sess.list_devices())"
   ]
  },
  {
   "cell_type": "code",
   "execution_count": 6,
   "metadata": {},
   "outputs": [
    {
     "data": {
      "text/plain": [
       "'1.12.0'"
      ]
     },
     "execution_count": 6,
     "metadata": {},
     "output_type": "execute_result"
    }
   ],
   "source": [
    "tf.__version__"
   ]
  },
  {
   "cell_type": "code",
   "execution_count": 7,
   "metadata": {},
   "outputs": [],
   "source": [
    "import pandas as pd\n",
    "import numpy as np \n",
    "import matplotlib.pyplot as plt"
   ]
  },
  {
   "cell_type": "code",
   "execution_count": 8,
   "metadata": {},
   "outputs": [],
   "source": [
    "train_df = pd.read_csv(dataset_folder + \"train_all.csv\", header=None)\n",
    "test_df = pd.read_csv(dataset_folder + \"test_all.csv\" , header=None)"
   ]
  },
  {
   "cell_type": "markdown",
   "metadata": {},
   "source": [
    "## Dataset AFDB\n",
    "Dataset AFDB terdiri dari 301 kolom, dimana kolom ke 301 merupakan katerori/class."
   ]
  },
  {
   "cell_type": "code",
   "execution_count": 9,
   "metadata": {},
   "outputs": [
    {
     "data": {
      "text/html": [
       "<div>\n",
       "<style scoped>\n",
       "    .dataframe tbody tr th:only-of-type {\n",
       "        vertical-align: middle;\n",
       "    }\n",
       "\n",
       "    .dataframe tbody tr th {\n",
       "        vertical-align: top;\n",
       "    }\n",
       "\n",
       "    .dataframe thead th {\n",
       "        text-align: right;\n",
       "    }\n",
       "</style>\n",
       "<table border=\"1\" class=\"dataframe\">\n",
       "  <thead>\n",
       "    <tr style=\"text-align: right;\">\n",
       "      <th></th>\n",
       "      <th>0</th>\n",
       "      <th>1</th>\n",
       "      <th>2</th>\n",
       "      <th>3</th>\n",
       "      <th>4</th>\n",
       "      <th>5</th>\n",
       "      <th>6</th>\n",
       "      <th>7</th>\n",
       "      <th>8</th>\n",
       "      <th>9</th>\n",
       "      <th>...</th>\n",
       "      <th>291</th>\n",
       "      <th>292</th>\n",
       "      <th>293</th>\n",
       "      <th>294</th>\n",
       "      <th>295</th>\n",
       "      <th>296</th>\n",
       "      <th>297</th>\n",
       "      <th>298</th>\n",
       "      <th>299</th>\n",
       "      <th>300</th>\n",
       "    </tr>\n",
       "  </thead>\n",
       "  <tbody>\n",
       "    <tr>\n",
       "      <th>0</th>\n",
       "      <td>0.833904</td>\n",
       "      <td>0.207152</td>\n",
       "      <td>-0.397542</td>\n",
       "      <td>-0.668491</td>\n",
       "      <td>-0.634373</td>\n",
       "      <td>-0.546505</td>\n",
       "      <td>-0.427151</td>\n",
       "      <td>-0.324006</td>\n",
       "      <td>-0.294306</td>\n",
       "      <td>-0.293491</td>\n",
       "      <td>...</td>\n",
       "      <td>0.0</td>\n",
       "      <td>0.0</td>\n",
       "      <td>0.0</td>\n",
       "      <td>0.0</td>\n",
       "      <td>0.0</td>\n",
       "      <td>0.0</td>\n",
       "      <td>0.0</td>\n",
       "      <td>0.0</td>\n",
       "      <td>0.0</td>\n",
       "      <td>0</td>\n",
       "    </tr>\n",
       "    <tr>\n",
       "      <th>1</th>\n",
       "      <td>1.000000</td>\n",
       "      <td>0.778792</td>\n",
       "      <td>0.197233</td>\n",
       "      <td>-0.654853</td>\n",
       "      <td>-0.752628</td>\n",
       "      <td>-0.701510</td>\n",
       "      <td>-0.627383</td>\n",
       "      <td>-0.488274</td>\n",
       "      <td>-0.260168</td>\n",
       "      <td>-0.056887</td>\n",
       "      <td>...</td>\n",
       "      <td>0.0</td>\n",
       "      <td>0.0</td>\n",
       "      <td>0.0</td>\n",
       "      <td>0.0</td>\n",
       "      <td>0.0</td>\n",
       "      <td>0.0</td>\n",
       "      <td>0.0</td>\n",
       "      <td>0.0</td>\n",
       "      <td>0.0</td>\n",
       "      <td>0</td>\n",
       "    </tr>\n",
       "    <tr>\n",
       "      <th>2</th>\n",
       "      <td>0.674936</td>\n",
       "      <td>0.488537</td>\n",
       "      <td>-0.049248</td>\n",
       "      <td>-0.626829</td>\n",
       "      <td>-0.884667</td>\n",
       "      <td>-0.843798</td>\n",
       "      <td>-0.636090</td>\n",
       "      <td>-0.384375</td>\n",
       "      <td>-0.250414</td>\n",
       "      <td>-0.111268</td>\n",
       "      <td>...</td>\n",
       "      <td>0.0</td>\n",
       "      <td>0.0</td>\n",
       "      <td>0.0</td>\n",
       "      <td>0.0</td>\n",
       "      <td>0.0</td>\n",
       "      <td>0.0</td>\n",
       "      <td>0.0</td>\n",
       "      <td>0.0</td>\n",
       "      <td>0.0</td>\n",
       "      <td>0</td>\n",
       "    </tr>\n",
       "    <tr>\n",
       "      <th>3</th>\n",
       "      <td>0.469226</td>\n",
       "      <td>0.181124</td>\n",
       "      <td>-0.403801</td>\n",
       "      <td>-0.702536</td>\n",
       "      <td>-0.506650</td>\n",
       "      <td>-0.337309</td>\n",
       "      <td>-0.155400</td>\n",
       "      <td>-0.136786</td>\n",
       "      <td>-0.138115</td>\n",
       "      <td>-0.139813</td>\n",
       "      <td>...</td>\n",
       "      <td>0.0</td>\n",
       "      <td>0.0</td>\n",
       "      <td>0.0</td>\n",
       "      <td>0.0</td>\n",
       "      <td>0.0</td>\n",
       "      <td>0.0</td>\n",
       "      <td>0.0</td>\n",
       "      <td>0.0</td>\n",
       "      <td>0.0</td>\n",
       "      <td>0</td>\n",
       "    </tr>\n",
       "    <tr>\n",
       "      <th>4</th>\n",
       "      <td>0.784225</td>\n",
       "      <td>0.635789</td>\n",
       "      <td>0.161298</td>\n",
       "      <td>-0.408026</td>\n",
       "      <td>-0.840968</td>\n",
       "      <td>-0.476333</td>\n",
       "      <td>-0.281531</td>\n",
       "      <td>-0.145781</td>\n",
       "      <td>-0.042994</td>\n",
       "      <td>-0.015484</td>\n",
       "      <td>...</td>\n",
       "      <td>0.0</td>\n",
       "      <td>0.0</td>\n",
       "      <td>0.0</td>\n",
       "      <td>0.0</td>\n",
       "      <td>0.0</td>\n",
       "      <td>0.0</td>\n",
       "      <td>0.0</td>\n",
       "      <td>0.0</td>\n",
       "      <td>0.0</td>\n",
       "      <td>0</td>\n",
       "    </tr>\n",
       "  </tbody>\n",
       "</table>\n",
       "<p>5 rows × 301 columns</p>\n",
       "</div>"
      ],
      "text/plain": [
       "        0         1         2         3         4         5         6    \\\n",
       "0  0.833904  0.207152 -0.397542 -0.668491 -0.634373 -0.546505 -0.427151   \n",
       "1  1.000000  0.778792  0.197233 -0.654853 -0.752628 -0.701510 -0.627383   \n",
       "2  0.674936  0.488537 -0.049248 -0.626829 -0.884667 -0.843798 -0.636090   \n",
       "3  0.469226  0.181124 -0.403801 -0.702536 -0.506650 -0.337309 -0.155400   \n",
       "4  0.784225  0.635789  0.161298 -0.408026 -0.840968 -0.476333 -0.281531   \n",
       "\n",
       "        7         8         9    ...  291  292  293  294  295  296  297  298  \\\n",
       "0 -0.324006 -0.294306 -0.293491  ...  0.0  0.0  0.0  0.0  0.0  0.0  0.0  0.0   \n",
       "1 -0.488274 -0.260168 -0.056887  ...  0.0  0.0  0.0  0.0  0.0  0.0  0.0  0.0   \n",
       "2 -0.384375 -0.250414 -0.111268  ...  0.0  0.0  0.0  0.0  0.0  0.0  0.0  0.0   \n",
       "3 -0.136786 -0.138115 -0.139813  ...  0.0  0.0  0.0  0.0  0.0  0.0  0.0  0.0   \n",
       "4 -0.145781 -0.042994 -0.015484  ...  0.0  0.0  0.0  0.0  0.0  0.0  0.0  0.0   \n",
       "\n",
       "   299  300  \n",
       "0  0.0    0  \n",
       "1  0.0    0  \n",
       "2  0.0    0  \n",
       "3  0.0    0  \n",
       "4  0.0    0  \n",
       "\n",
       "[5 rows x 301 columns]"
      ]
     },
     "execution_count": 9,
     "metadata": {},
     "output_type": "execute_result"
    }
   ],
   "source": [
    "train_df.head()"
   ]
  },
  {
   "cell_type": "markdown",
   "metadata": {},
   "source": [
    "___\n",
    "## Add Noise\n",
    "\n",
    "- pada bagian ini kita tambahkan gaussian noise pada signal ECG \n",
    "- Noise yang akan ditambahkan adalah **Additive White Gaussian Noise (AWGN)**.\n",
    "- Pada AWGN nilai rata-rata $\\mu$ = 0, sehingga untuk tiap Gaussian random variable $X$, non-central second [moment](https://en.wikipedia.org/wiki/Normal_distribution#Moments) *E*[$X^{2}$] adalah: <br><br>\n",
    "*E*[$X^{2}$] = $\\mu^{2}$ + $\\sigma^{2}$ <br><br>\n",
    "sehingga, <br>\n",
    "*E*[$X^{2}$] = $\\sigma^{2}$ <br><br>\n",
    "untuk, <br>\n",
    "*E*[$X^{2}$] dalam konteks ini merupakan rata-rata noise, <br><br>\n",
    "$NoiseAvg$ = $10^{NoiseAvg[db]/10}$ <br><br>\n",
    "konversi baliknya ke-db, <br>\n",
    "$NoiseAvg[db] = 10\\times log(NoiseAvg)$ <br><br>\n",
    "NoiseAvg bisa didapatkan dari formula $SNR$, <br>\n",
    "$SNR[db]= Signal[db] - NoiseAvg[db]$ \n",
    "<br><br>\n",
    "sehingga jika $SNR$ diset pada nilai tertentu, bisa didapatkan variance $\\sigma^{2}$ yang nantinya dapat digunakan untuk menghasilkan white noise. \n",
    "- untuk menghasilkan white noise bisa digunakan library `numpy.random.normal()` dengan parameter `step` = $\\sigma$ (std deviation)"
   ]
  },
  {
   "cell_type": "code",
   "execution_count": 10,
   "metadata": {},
   "outputs": [],
   "source": [
    "fs = 250 #Hz"
   ]
  },
  {
   "cell_type": "code",
   "execution_count": 11,
   "metadata": {},
   "outputs": [],
   "source": [
    "def add_AWGN_noise(signal, target_noise_db = -30):\n",
    "    mean_noise = 0\n",
    "    target_noise_watts = 10 ** (target_noise_db / 10)\n",
    "    sigma = np.sqrt(target_noise_watts)\n",
    "    \n",
    "    noise = np.random.normal(mean_noise, sigma, len(signal))\n",
    "\n",
    "    return (signal+noise)"
   ]
  },
  {
   "cell_type": "code",
   "execution_count": 18,
   "metadata": {},
   "outputs": [],
   "source": [
    "def plot_noised_signal(signal, noised_signal):\n",
    "    time = np.arange(len(signal)) / fs\n",
    "    \n",
    "    plt.figure(figsize=(15,4)) \n",
    "\n",
    "    plt.subplot(1,2,1)\n",
    "    plt.plot(time, signal)\n",
    "    plt.title(\"Original Signal\")\n",
    "    plt.grid()\n",
    "\n",
    "\n",
    "    plt.subplot(1,2,2)\n",
    "    plt.plot(time, noised_signal)\n",
    "    plt.title(\"Noised Signal with AWGN\")\n",
    "    plt.grid()\n",
    "\n",
    "    plt.tight_layout()\n",
    "    plt.show()"
   ]
  },
  {
   "cell_type": "code",
   "execution_count": 13,
   "metadata": {},
   "outputs": [],
   "source": [
    "# scale data from 0 to 1\n",
    "def scaler(X):\n",
    "    res = []\n",
    "    for x in X :\n",
    "        idx = np.max(np.nonzero(x))\n",
    "        x[idx+1:] = x.min()\n",
    "        res.append((x - x.min())/(x.max() - x.min()))\n",
    "    return np.array(res)"
   ]
  },
  {
   "cell_type": "markdown",
   "metadata": {},
   "source": [
    "### Add Noise to All Signal Dataset"
   ]
  },
  {
   "cell_type": "code",
   "execution_count": 14,
   "metadata": {},
   "outputs": [],
   "source": [
    "X_train = train_df.iloc[:,:300].values   \n",
    "X_test = test_df.iloc[:,:300].values"
   ]
  },
  {
   "cell_type": "code",
   "execution_count": 15,
   "metadata": {},
   "outputs": [],
   "source": [
    "y_train = train_df.iloc[:,300].values  \n",
    "y_test = test_df.iloc[:,300].values"
   ]
  },
  {
   "cell_type": "code",
   "execution_count": 16,
   "metadata": {},
   "outputs": [],
   "source": [
    "X_train = scaler(X_train)\n",
    "X_test = scaler(X_test)"
   ]
  },
  {
   "cell_type": "code",
   "execution_count": 17,
   "metadata": {},
   "outputs": [],
   "source": [
    "# apply noise to signal\n",
    "\n",
    "X_train_noised = np.array([add_AWGN_noise(signal) for signal in X_train])\n",
    "X_test_noised = np.array([add_AWGN_noise(signal) for signal in X_test])"
   ]
  },
  {
   "cell_type": "code",
   "execution_count": 19,
   "metadata": {},
   "outputs": [
    {
     "data": {
      "image/png": "[encoded data removed]",
      "text/plain": [
       "<Figure size 1080x288 with 2 Axes>"
      ]
     },
     "metadata": {
      "needs_background": "light"
     },
     "output_type": "display_data"
    }
   ],
   "source": [
    "signal = X_train[0]\n",
    "noised_signal = X_train_noised[0]\n",
    "\n",
    "plot_noised_signal(signal, noised_signal)"
   ]
  },
  {
   "cell_type": "markdown",
   "metadata": {},
   "source": [
    "___\n",
    "# Denoising Signal\n",
    "\n",
    "- Ditahap ini kita akan coba lakukan Denoising signal menggunakan Deep Learning\n",
    "    - CNN (Convolutional Neural Network)\n",
    "- Sumber : [https://blog.keras.io/building-autoencoders-in-keras.html](https://blog.keras.io/building-autoencoders-in-keras.html) <br>\n",
    "![](resource/DAE.png)"
   ]
  },
  {
   "cell_type": "markdown",
   "metadata": {},
   "source": [
    "#### Visualization util"
   ]
  },
  {
   "cell_type": "code",
   "execution_count": 27,
   "metadata": {},
   "outputs": [],
   "source": [
    "def plot_model_history(history):\n",
    "    \n",
    "    fig, ax_loss = plt.subplots()\n",
    "    plt.plot(history.history['loss'])\n",
    "    plt.plot(history.history['val_loss'])\n",
    "    plt.xlabel('Epoch')\n",
    "    plt.ylabel('Loss')\n",
    "    plt.title('Model - Loss (RMSE)')\n",
    "    plt.legend(['Training', 'Validation'], loc='upper right')\n",
    "    plt.grid()\n",
    "    plt.show()\n",
    "    "
   ]
  },
  {
   "cell_type": "code",
   "execution_count": 41,
   "metadata": {},
   "outputs": [],
   "source": [
    "def plot_decoded_signal(decoded_signal, original_signal, name):\n",
    "    time = np.arange(len(decoded_signal)) / fs\n",
    "    plt.figure(figsize=(15,4))\n",
    "\n",
    "    plt.subplot(1,2,1)\n",
    "    plt.plot(decoded_signal)\n",
    "    plt.title(\"Denoised Signal - \" + name)\n",
    "    plt.grid()\n",
    "\n",
    "    plt.subplot(1,2,2)\n",
    "    plt.plot(original_signal)\n",
    "    plt.title(\"Original Signal\")\n",
    "    plt.grid()\n",
    "\n",
    "    plt.tight_layout()\n",
    "    plt.show()"
   ]
  },
  {
   "cell_type": "markdown",
   "metadata": {},
   "source": [
    "#### Custom loss "
   ]
  },
  {
   "cell_type": "code",
   "execution_count": 22,
   "metadata": {},
   "outputs": [],
   "source": [
    "def rmse(y_true, y_pred):\n",
    "    return K.sqrt(K.mean(K.square(y_pred - y_true))) "
   ]
  },
  {
   "cell_type": "markdown",
   "metadata": {},
   "source": [
    "___\n",
    "### Denoising CNN - Autoencoder"
   ]
  },
  {
   "cell_type": "code",
   "execution_count": 23,
   "metadata": {},
   "outputs": [
    {
     "name": "stderr",
     "output_type": "stream",
     "text": [
      "Using TensorFlow backend.\n"
     ]
    }
   ],
   "source": [
    "from keras.models import Sequential\n",
    "from keras.layers import Dense, InputLayer\n",
    "from keras.layers import Conv1D, MaxPooling1D as MaxP1D, UpSampling1D as UpSm1D\n",
    "from keras.callbacks import EarlyStopping, ModelCheckpoint\n",
    "from keras import backend as K\n"
   ]
  },
  {
   "cell_type": "code",
   "execution_count": 24,
   "metadata": {},
   "outputs": [],
   "source": [
    "X_train = X_train.reshape(len(X_train), X_train.shape[1], 1)\n",
    "X_test = X_test.reshape(len(X_test), X_test.shape[1], 1)\n",
    "X_train_noised = X_train_noised.reshape(len(X_train_noised), X_train_noised.shape[1], 1)\n",
    "X_test_noised = X_test_noised.reshape(len(X_test_noised), X_test_noised.shape[1], 1)\n"
   ]
  },
  {
   "cell_type": "code",
   "execution_count": 25,
   "metadata": {},
   "outputs": [],
   "source": [
    "def ConvAutoEncoder(input_dim):\n",
    "    conv_net = Sequential(name=\"conv_autoencoder\")\n",
    "    conv_net.add(InputLayer(input_shape=(input_dim,1))) \n",
    "    \n",
    "    conv_net.add(Conv1D(128, 3, activation='relu', padding='same', name=\"encode_1\"))\n",
    "    conv_net.add(MaxP1D(2, padding='same', name=\"encode_2\"))\n",
    "    conv_net.add(Conv1D(64, 3, activation='relu', padding='same', name=\"encode_3\"))\n",
    "    conv_net.add(MaxP1D(2, padding='same', name=\"encode_4\"))\n",
    "\n",
    "    conv_net.add(Conv1D(64, 3, activation='relu', padding='same', name=\"decode_3\"))\n",
    "    conv_net.add(UpSm1D(2, name=\"decode_4\"))\n",
    "    conv_net.add(Conv1D(128, 3, activation='relu', padding='same', name=\"decode_5\"))\n",
    "    conv_net.add(UpSm1D(2, name=\"decode_6\"))\n",
    "    conv_net.add(Conv1D(1, 3, activation='sigmoid', padding='same', name=\"decode_7\"))\n",
    "\n",
    "    conv_net.summary()\n",
    "    \n",
    "    conv_net.compile(\n",
    "                    optimizer = 'adam', \n",
    "                    loss = rmse)\n",
    "    \n",
    "    return conv_net"
   ]
  },
  {
   "cell_type": "code",
   "execution_count": 26,
   "metadata": {
    "scrolled": true
   },
   "outputs": [
    {
     "name": "stdout",
     "output_type": "stream",
     "text": [
      "_________________________________________________________________\n",
      "Layer (type)                 Output Shape              Param #   \n",
      "=================================================================\n",
      "encode_1 (Conv1D)            (None, 300, 128)          512       \n",
      "_________________________________________________________________\n",
      "encode_2 (MaxPooling1D)      (None, 150, 128)          0         \n",
      "_________________________________________________________________\n",
      "encode_3 (Conv1D)            (None, 150, 64)           24640     \n",
      "_________________________________________________________________\n",
      "encode_4 (MaxPooling1D)      (None, 75, 64)            0         \n",
      "_________________________________________________________________\n",
      "decode_3 (Conv1D)            (None, 75, 64)            12352     \n",
      "_________________________________________________________________\n",
      "decode_4 (UpSampling1D)      (None, 150, 64)           0         \n",
      "_________________________________________________________________\n",
      "decode_5 (Conv1D)            (None, 150, 128)          24704     \n",
      "_________________________________________________________________\n",
      "decode_6 (UpSampling1D)      (None, 300, 128)          0         \n",
      "_________________________________________________________________\n",
      "decode_7 (Conv1D)            (None, 300, 1)            385       \n",
      "=================================================================\n",
      "Total params: 62,593\n",
      "Trainable params: 62,593\n",
      "Non-trainable params: 0\n",
      "_________________________________________________________________\n",
      "Train on 22440 samples, validate on 9408 samples\n",
      "Epoch 1/10\n",
      "22440/22440 [==============================] - 44s 2ms/step - loss: 0.0495 - val_loss: 0.0292\n",
      "Epoch 2/10\n",
      "22440/22440 [==============================] - 38s 2ms/step - loss: 0.0238 - val_loss: 0.0215\n",
      "Epoch 3/10\n",
      "22440/22440 [==============================] - 39s 2ms/step - loss: 0.0202 - val_loss: 0.0213\n",
      "Epoch 4/10\n",
      "22440/22440 [==============================] - 41s 2ms/step - loss: 0.0187 - val_loss: 0.0180\n",
      "Epoch 5/10\n",
      "22440/22440 [==============================] - 42s 2ms/step - loss: 0.0174 - val_loss: 0.0173\n",
      "Epoch 6/10\n",
      "22440/22440 [==============================] - 42s 2ms/step - loss: 0.0170 - val_loss: 0.0169\n",
      "Epoch 7/10\n",
      "22440/22440 [==============================] - 42s 2ms/step - loss: 0.0165 - val_loss: 0.0164\n",
      "Epoch 8/10\n",
      "22440/22440 [==============================] - 42s 2ms/step - loss: 0.0161 - val_loss: 0.0162\n",
      "Epoch 9/10\n",
      "22440/22440 [==============================] - 70s 3ms/step - loss: 0.0159 - val_loss: 0.0159\n",
      "Epoch 10/10\n",
      "22440/22440 [==============================] - 76s 3ms/step - loss: 0.0157 - val_loss: 0.0161\n"
     ]
    }
   ],
   "source": [
    "model_name_conv_AE = 'best_denoising_conv_AE.h5'\n",
    "\n",
    "input_dim = X_train_noised.shape[1]\n",
    "conv_autoencoder = ConvAutoEncoder(input_dim)\n",
    "\n",
    "callbacks = [EarlyStopping(monitor = 'val_loss', patience = 5),\n",
    "             ModelCheckpoint(\n",
    "                         filepath = model_name_conv_AE, \n",
    "                         monitor = 'val_loss', \n",
    "                         save_best_only = True)]\n",
    "\n",
    "history = conv_autoencoder.fit(X_train_noised, X_train,\n",
    "                                epochs = 10,\n",
    "                                batch_size = 64,\n",
    "                                shuffle = True,\n",
    "                                callbacks = callbacks,\n",
    "                                validation_data = (X_test_noised, X_test))"
   ]
  },
  {
   "cell_type": "markdown",
   "metadata": {},
   "source": [
    "- Save model"
   ]
  },
  {
   "cell_type": "code",
   "execution_count": 28,
   "metadata": {},
   "outputs": [],
   "source": [
    "conv_autoencoder.save(model_name_conv_AE.replace(\"best_\", \"\"))"
   ]
  },
  {
   "cell_type": "markdown",
   "metadata": {},
   "source": [
    "- Plot history"
   ]
  },
  {
   "cell_type": "code",
   "execution_count": 29,
   "metadata": {},
   "outputs": [
    {
     "data": {
      "image/png": "[encoded data removed]",
      "text/plain": [
       "<Figure size 432x288 with 1 Axes>"
      ]
     },
     "metadata": {
      "needs_background": "light"
     },
     "output_type": "display_data"
    }
   ],
   "source": [
    "plot_model_history(history)"
   ]
  },
  {
   "cell_type": "markdown",
   "metadata": {},
   "source": [
    "- save training history"
   ]
  },
  {
   "cell_type": "code",
   "execution_count": 30,
   "metadata": {},
   "outputs": [],
   "source": [
    "history_df = pd.DataFrame(history.history)\n",
    "\n",
    "history_df.to_csv(\"history_Training_Denoising_Conv_AE.csv\", index=False)"
   ]
  },
  {
   "cell_type": "markdown",
   "metadata": {},
   "source": [
    "- apply model to train dataset"
   ]
  },
  {
   "cell_type": "code",
   "execution_count": 31,
   "metadata": {},
   "outputs": [],
   "source": [
    "X_train_denoised = conv_autoencoder.predict(X_train_noised)"
   ]
  },
  {
   "cell_type": "markdown",
   "metadata": {},
   "source": [
    "- apply model to test dataset"
   ]
  },
  {
   "cell_type": "code",
   "execution_count": 32,
   "metadata": {},
   "outputs": [],
   "source": [
    "X_test_denoised = conv_autoencoder.predict(X_test_noised)"
   ]
  },
  {
   "cell_type": "markdown",
   "metadata": {},
   "source": [
    "- save denoising result"
   ]
  },
  {
   "cell_type": "code",
   "execution_count": 33,
   "metadata": {},
   "outputs": [],
   "source": [
    "X_train_denoised = X_train_denoised.reshape(len(X_train_denoised), X_train_denoised.shape[1])\n",
    "X_test_denoised = X_test_denoised.reshape(len(X_test_denoised), X_test_denoised.shape[1])\n",
    "\n",
    "train_denoised_df = pd.DataFrame(np.hstack((X_train_denoised, np.expand_dims(y_train, 1))))\n",
    "train_denoised_df.to_csv(dataset_folder + \"train_all_Conv_AE.csv\", index=None, header=None)\n",
    "\n",
    "test_denoised_df = pd.DataFrame(np.hstack((X_test_denoised, np.expand_dims(y_test, 1))))\n",
    "test_denoised_df.to_csv(dataset_folder + \"test_all_Conv_AE.csv\", index=None, header=None)\n"
   ]
  },
  {
   "cell_type": "markdown",
   "metadata": {},
   "source": [
    "- plot result"
   ]
  },
  {
   "cell_type": "code",
   "execution_count": 37,
   "metadata": {},
   "outputs": [
    {
     "data": {
      "image/png": "[encoded data removed]",
      "text/plain": [
       "<Figure size 1080x288 with 2 Axes>"
      ]
     },
     "metadata": {
      "needs_background": "light"
     },
     "output_type": "display_data"
    }
   ],
   "source": [
    "signal = X_train[0]\n",
    "noised_signal = X_train_noised[0]\n",
    "\n",
    "plot_noised_signal(signal, noised_signal)"
   ]
  },
  {
   "cell_type": "code",
   "execution_count": 42,
   "metadata": {},
   "outputs": [
    {
     "data": {
      "image/png": "[encoded data removed]",
      "text/plain": [
       "<Figure size 1080x288 with 2 Axes>"
      ]
     },
     "metadata": {
      "needs_background": "light"
     },
     "output_type": "display_data"
    }
   ],
   "source": [
    "signal = X_train[0]\n",
    "denoised_signal = X_train_denoised[0]\n",
    "\n",
    "plot_decoded_signal(denoised_signal, signal,\"Convolutional Autoencoder\")"
   ]
  },
  {
   "cell_type": "code",
   "execution_count": null,
   "metadata": {},
   "outputs": [],
   "source": []
  }
 ],
 "metadata": {
  "kernelspec": {
   "display_name": "Python [conda env:GPU_ENV]",
   "language": "python",
   "name": "conda-env-GPU_ENV-py"
  },
  "language_info": {
   "codemirror_mode": {
    "name": "ipython",
    "version": 3
   },
   "file_extension": ".py",
   "mimetype": "text/x-python",
   "name": "python",
   "nbconvert_exporter": "python",
   "pygments_lexer": "ipython3",
   "version": "3.6.12"
  }
 },
 "nbformat": 4,
 "nbformat_minor": 4
}
