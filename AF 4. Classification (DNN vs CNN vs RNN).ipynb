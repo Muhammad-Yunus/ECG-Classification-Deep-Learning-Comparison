{
 "cells": [
  {
   "cell_type": "markdown",
   "metadata": {},
   "source": [
    "# Load dataset"
   ]
  },
  {
   "cell_type": "code",
   "execution_count": 1,
   "metadata": {},
   "outputs": [],
   "source": [
    "labels = ['AF', 'N']"
   ]
  },
  {
   "cell_type": "code",
   "execution_count": 2,
   "metadata": {},
   "outputs": [],
   "source": [
    "import os\n",
    "# disable GPU\n",
    "#os.environ['CUDA_VISIBLE_DEVICES'] = '-1'\n",
    "\n",
    "dataset_folder = 'dataset/'\n",
    "filenames = []\n",
    "for filename in os.listdir(dataset_folder):\n",
    "    if filename.find(\"_all_\") > -1 :\n",
    "        filenames.append(filename)"
   ]
  },
  {
   "cell_type": "code",
   "execution_count": 3,
   "metadata": {},
   "outputs": [
    {
     "data": {
      "text/plain": [
       "['test_all_Conv_AE.csv', 'train_all_Conv_AE.csv']"
      ]
     },
     "execution_count": 3,
     "metadata": {},
     "output_type": "execute_result"
    }
   ],
   "source": [
    "filenames"
   ]
  },
  {
   "cell_type": "code",
   "execution_count": 4,
   "metadata": {},
   "outputs": [
    {
     "name": "stderr",
     "output_type": "stream",
     "text": [
      "Using TensorFlow backend.\n"
     ]
    }
   ],
   "source": [
    "import pandas as pd\n",
    "import numpy as np \n",
    "import matplotlib.pyplot as plt\n",
    "\n",
    "from sklearn.model_selection import train_test_split\n",
    "from sklearn.metrics import classification_report\n",
    "from sklearn.metrics import f1_score\n",
    "from sklearn.metrics import confusion_matrix\n",
    "from sklearn.utils import class_weight\n",
    "\n",
    "from keras.utils.np_utils import to_categorical"
   ]
  },
  {
   "cell_type": "code",
   "execution_count": 5,
   "metadata": {},
   "outputs": [],
   "source": [
    "train_df = pd.read_csv(dataset_folder + \"train_all_Conv_AE.csv\", header=None)\n",
    "\n",
    "test_df = pd.read_csv(dataset_folder + \"test_all_Conv_AE.csv\", header=None)"
   ]
  },
  {
   "cell_type": "markdown",
   "metadata": {},
   "source": [
    "## Dataset AFDB\n",
    "Dataset AFDB terdiri dari 301 kolom, dimana kolom ke 301 merupakan katerori/class."
   ]
  },
  {
   "cell_type": "code",
   "execution_count": 6,
   "metadata": {},
   "outputs": [
    {
     "data": {
      "text/html": [
       "<div>\n",
       "<style scoped>\n",
       "    .dataframe tbody tr th:only-of-type {\n",
       "        vertical-align: middle;\n",
       "    }\n",
       "\n",
       "    .dataframe tbody tr th {\n",
       "        vertical-align: top;\n",
       "    }\n",
       "\n",
       "    .dataframe thead th {\n",
       "        text-align: right;\n",
       "    }\n",
       "</style>\n",
       "<table border=\"1\" class=\"dataframe\">\n",
       "  <thead>\n",
       "    <tr style=\"text-align: right;\">\n",
       "      <th></th>\n",
       "      <th>0</th>\n",
       "      <th>1</th>\n",
       "      <th>2</th>\n",
       "      <th>3</th>\n",
       "      <th>4</th>\n",
       "      <th>5</th>\n",
       "      <th>6</th>\n",
       "      <th>7</th>\n",
       "      <th>8</th>\n",
       "      <th>9</th>\n",
       "      <th>...</th>\n",
       "      <th>291</th>\n",
       "      <th>292</th>\n",
       "      <th>293</th>\n",
       "      <th>294</th>\n",
       "      <th>295</th>\n",
       "      <th>296</th>\n",
       "      <th>297</th>\n",
       "      <th>298</th>\n",
       "      <th>299</th>\n",
       "      <th>300</th>\n",
       "    </tr>\n",
       "  </thead>\n",
       "  <tbody>\n",
       "    <tr>\n",
       "      <th>0</th>\n",
       "      <td>0.945156</td>\n",
       "      <td>0.711700</td>\n",
       "      <td>0.223138</td>\n",
       "      <td>0.131070</td>\n",
       "      <td>0.159705</td>\n",
       "      <td>0.206857</td>\n",
       "      <td>0.258638</td>\n",
       "      <td>0.302404</td>\n",
       "      <td>0.315416</td>\n",
       "      <td>0.339896</td>\n",
       "      <td>...</td>\n",
       "      <td>0.000235</td>\n",
       "      <td>0.000244</td>\n",
       "      <td>0.000234</td>\n",
       "      <td>0.000218</td>\n",
       "      <td>0.000152</td>\n",
       "      <td>0.000129</td>\n",
       "      <td>0.000608</td>\n",
       "      <td>0.000491</td>\n",
       "      <td>0.000282</td>\n",
       "      <td>0.0</td>\n",
       "    </tr>\n",
       "    <tr>\n",
       "      <th>1</th>\n",
       "      <td>0.981990</td>\n",
       "      <td>0.874282</td>\n",
       "      <td>0.501165</td>\n",
       "      <td>0.124597</td>\n",
       "      <td>0.022268</td>\n",
       "      <td>0.018291</td>\n",
       "      <td>0.045939</td>\n",
       "      <td>0.130483</td>\n",
       "      <td>0.257408</td>\n",
       "      <td>0.371303</td>\n",
       "      <td>...</td>\n",
       "      <td>0.001124</td>\n",
       "      <td>0.001156</td>\n",
       "      <td>0.001331</td>\n",
       "      <td>0.001017</td>\n",
       "      <td>0.000487</td>\n",
       "      <td>0.000429</td>\n",
       "      <td>0.001687</td>\n",
       "      <td>0.001427</td>\n",
       "      <td>0.000866</td>\n",
       "      <td>0.0</td>\n",
       "    </tr>\n",
       "    <tr>\n",
       "      <th>2</th>\n",
       "      <td>0.979461</td>\n",
       "      <td>0.849435</td>\n",
       "      <td>0.548271</td>\n",
       "      <td>0.241752</td>\n",
       "      <td>0.052131</td>\n",
       "      <td>0.055533</td>\n",
       "      <td>0.155057</td>\n",
       "      <td>0.296143</td>\n",
       "      <td>0.439993</td>\n",
       "      <td>0.534918</td>\n",
       "      <td>...</td>\n",
       "      <td>0.000180</td>\n",
       "      <td>0.000178</td>\n",
       "      <td>0.000203</td>\n",
       "      <td>0.000167</td>\n",
       "      <td>0.000055</td>\n",
       "      <td>0.000042</td>\n",
       "      <td>0.000198</td>\n",
       "      <td>0.000147</td>\n",
       "      <td>0.000095</td>\n",
       "      <td>0.0</td>\n",
       "    </tr>\n",
       "    <tr>\n",
       "      <th>3</th>\n",
       "      <td>0.874077</td>\n",
       "      <td>0.674986</td>\n",
       "      <td>0.241481</td>\n",
       "      <td>0.060493</td>\n",
       "      <td>0.113110</td>\n",
       "      <td>0.289669</td>\n",
       "      <td>0.366629</td>\n",
       "      <td>0.429515</td>\n",
       "      <td>0.418610</td>\n",
       "      <td>0.423937</td>\n",
       "      <td>...</td>\n",
       "      <td>0.000094</td>\n",
       "      <td>0.000074</td>\n",
       "      <td>0.000069</td>\n",
       "      <td>0.000051</td>\n",
       "      <td>0.000027</td>\n",
       "      <td>0.000026</td>\n",
       "      <td>0.000148</td>\n",
       "      <td>0.000129</td>\n",
       "      <td>0.000073</td>\n",
       "      <td>0.0</td>\n",
       "    </tr>\n",
       "    <tr>\n",
       "      <th>4</th>\n",
       "      <td>0.984993</td>\n",
       "      <td>0.898830</td>\n",
       "      <td>0.601350</td>\n",
       "      <td>0.188578</td>\n",
       "      <td>0.067044</td>\n",
       "      <td>0.164287</td>\n",
       "      <td>0.352207</td>\n",
       "      <td>0.433121</td>\n",
       "      <td>0.485312</td>\n",
       "      <td>0.521408</td>\n",
       "      <td>...</td>\n",
       "      <td>0.000729</td>\n",
       "      <td>0.000633</td>\n",
       "      <td>0.000685</td>\n",
       "      <td>0.000448</td>\n",
       "      <td>0.000175</td>\n",
       "      <td>0.000134</td>\n",
       "      <td>0.000576</td>\n",
       "      <td>0.000459</td>\n",
       "      <td>0.000244</td>\n",
       "      <td>0.0</td>\n",
       "    </tr>\n",
       "  </tbody>\n",
       "</table>\n",
       "<p>5 rows × 301 columns</p>\n",
       "</div>"
      ],
      "text/plain": [
       "        0         1         2         3         4         5         6    \\\n",
       "0  0.945156  0.711700  0.223138  0.131070  0.159705  0.206857  0.258638   \n",
       "1  0.981990  0.874282  0.501165  0.124597  0.022268  0.018291  0.045939   \n",
       "2  0.979461  0.849435  0.548271  0.241752  0.052131  0.055533  0.155057   \n",
       "3  0.874077  0.674986  0.241481  0.060493  0.113110  0.289669  0.366629   \n",
       "4  0.984993  0.898830  0.601350  0.188578  0.067044  0.164287  0.352207   \n",
       "\n",
       "        7         8         9    ...       291       292       293       294  \\\n",
       "0  0.302404  0.315416  0.339896  ...  0.000235  0.000244  0.000234  0.000218   \n",
       "1  0.130483  0.257408  0.371303  ...  0.001124  0.001156  0.001331  0.001017   \n",
       "2  0.296143  0.439993  0.534918  ...  0.000180  0.000178  0.000203  0.000167   \n",
       "3  0.429515  0.418610  0.423937  ...  0.000094  0.000074  0.000069  0.000051   \n",
       "4  0.433121  0.485312  0.521408  ...  0.000729  0.000633  0.000685  0.000448   \n",
       "\n",
       "        295       296       297       298       299  300  \n",
       "0  0.000152  0.000129  0.000608  0.000491  0.000282  0.0  \n",
       "1  0.000487  0.000429  0.001687  0.001427  0.000866  0.0  \n",
       "2  0.000055  0.000042  0.000198  0.000147  0.000095  0.0  \n",
       "3  0.000027  0.000026  0.000148  0.000129  0.000073  0.0  \n",
       "4  0.000175  0.000134  0.000576  0.000459  0.000244  0.0  \n",
       "\n",
       "[5 rows x 301 columns]"
      ]
     },
     "execution_count": 6,
     "metadata": {},
     "output_type": "execute_result"
    }
   ],
   "source": [
    "train_df.head()"
   ]
  },
  {
   "cell_type": "code",
   "execution_count": 7,
   "metadata": {},
   "outputs": [
    {
     "name": "stdout",
     "output_type": "stream",
     "text": [
      "<class 'pandas.core.frame.DataFrame'>\n",
      "RangeIndex: 22440 entries, 0 to 22439\n",
      "Columns: 301 entries, 0 to 300\n",
      "dtypes: float64(301)\n",
      "memory usage: 51.5 MB\n"
     ]
    }
   ],
   "source": [
    "train_df.info()"
   ]
  },
  {
   "cell_type": "code",
   "execution_count": 8,
   "metadata": {},
   "outputs": [
    {
     "name": "stdout",
     "output_type": "stream",
     "text": [
      "<class 'pandas.core.frame.DataFrame'>\n",
      "RangeIndex: 9408 entries, 0 to 9407\n",
      "Columns: 301 entries, 0 to 300\n",
      "dtypes: float64(301)\n",
      "memory usage: 21.6 MB\n"
     ]
    }
   ],
   "source": [
    "test_df.info()"
   ]
  },
  {
   "cell_type": "markdown",
   "metadata": {},
   "source": [
    "## Dataset Augmentation"
   ]
  },
  {
   "cell_type": "code",
   "execution_count": 9,
   "metadata": {},
   "outputs": [],
   "source": [
    "ecg_df = pd.concat([train_df, test_df])"
   ]
  },
  {
   "cell_type": "code",
   "execution_count": 10,
   "metadata": {},
   "outputs": [
    {
     "name": "stdout",
     "output_type": "stream",
     "text": [
      "1    16804\n",
      "0    15044\n",
      "Name: 300, dtype: int64\n"
     ]
    }
   ],
   "source": [
    "ecg_df[300]=ecg_df[300].astype(int)\n",
    "equilibre=ecg_df[300].value_counts()\n",
    "\n",
    "print(equilibre)"
   ]
  },
  {
   "cell_type": "code",
   "execution_count": 11,
   "metadata": {},
   "outputs": [],
   "source": [
    "# sampling and resampling dataset\n",
    "\n",
    "from sklearn.utils import resample\n",
    "n_samples = 30000 \n",
    "random_states = [123, 124]\n",
    "\n",
    "dfs = []\n",
    "\n",
    "for i in range(len(equilibre)):\n",
    "    dfs.append(ecg_df[ecg_df[300]==i])\n",
    "    dfs[i]=resample(dfs[i],replace=True,n_samples=n_samples,random_state=random_states[i])\n",
    "\n",
    "ecg_df=pd.concat(dfs)"
   ]
  },
  {
   "cell_type": "code",
   "execution_count": 12,
   "metadata": {},
   "outputs": [
    {
     "name": "stdout",
     "output_type": "stream",
     "text": [
      "1    30000\n",
      "0    30000\n",
      "Name: 300, dtype: int64\n"
     ]
    }
   ],
   "source": [
    "ecg_df[300]=ecg_df[300].astype(int)\n",
    "equilibre=ecg_df[300].value_counts()\n",
    "\n",
    "print(equilibre)"
   ]
  },
  {
   "cell_type": "markdown",
   "metadata": {},
   "source": [
    "- split dataset"
   ]
  },
  {
   "cell_type": "code",
   "execution_count": 13,
   "metadata": {},
   "outputs": [],
   "source": [
    "target_train = ecg_df[300]\n",
    "y = to_categorical(target_train)\n",
    "\n",
    "X = ecg_df.iloc[:,:300].values"
   ]
  },
  {
   "cell_type": "code",
   "execution_count": 14,
   "metadata": {},
   "outputs": [],
   "source": [
    "X_train, X_test, y_train, y_test = train_test_split(\n",
    "                                    X, y, test_size=0.15, random_state=42)"
   ]
  },
  {
   "cell_type": "code",
   "execution_count": 15,
   "metadata": {},
   "outputs": [
    {
     "data": {
      "text/plain": [
       "((51000, 300), (9000, 300), (51000, 2), (9000, 2))"
      ]
     },
     "execution_count": 15,
     "metadata": {},
     "output_type": "execute_result"
    }
   ],
   "source": [
    "X_train.shape, X_test.shape, y_train.shape, y_test.shape"
   ]
  },
  {
   "cell_type": "markdown",
   "metadata": {},
   "source": [
    "## 1. Classification Convolutional Neural Network (CNN)\n",
    "\n",
    "- Import Keras library"
   ]
  },
  {
   "cell_type": "code",
   "execution_count": 16,
   "metadata": {},
   "outputs": [],
   "source": [
    "from keras.models import Sequential, Model\n",
    "from keras.layers import Dense, Conv1D, MaxPool1D, Flatten, Dropout, Activation\n",
    "from keras.layers import Input\n",
    "from keras.layers.normalization import BatchNormalization\n",
    "from keras.callbacks import EarlyStopping, ModelCheckpoint\n",
    "\n",
    "import keras"
   ]
  },
  {
   "cell_type": "markdown",
   "metadata": {},
   "source": [
    "- Buat CNN Model dengan aritektur network : \n",
    "`CONV-POOL-CONV-POOL-CONV-POOL-FC`\n",
    "- CONV : 1D Convolutional Layer\n",
    "- POOL : MAX Pooling Layer\n",
    "- FC   : Dense Layer + Activation"
   ]
  },
  {
   "cell_type": "code",
   "execution_count": 15,
   "metadata": {},
   "outputs": [],
   "source": [
    "def cnn_model(max_len):\n",
    "    \n",
    "    model = Sequential()\n",
    "    \n",
    "    model.add(Conv1D(filters=64,\n",
    "                     kernel_size=5,\n",
    "                     activation='relu',\n",
    "                     input_shape=(max_len, 1)))\n",
    "    model.add(BatchNormalization())\n",
    "    model.add(MaxPool1D(pool_size=2,\n",
    "                        strides=2,\n",
    "                        padding='same'))\n",
    "    \n",
    "    \n",
    "    model.add(Conv1D(filters=64,\n",
    "                     kernel_size=3,\n",
    "                     activation='relu'))\n",
    "    model.add(BatchNormalization())\n",
    "    model.add(MaxPool1D(pool_size=2,\n",
    "                        strides=2,\n",
    "                        padding='same'))\n",
    "    \n",
    "    \n",
    "    model.add(Conv1D(filters=64,\n",
    "                     kernel_size=3,\n",
    "                     activation='relu'))\n",
    "    model.add(BatchNormalization())\n",
    "    model.add(MaxPool1D(pool_size=2,\n",
    "                        strides=2,\n",
    "                        padding='same'))\n",
    "    \n",
    "    \n",
    "    # Fully Connected layer (FC)\n",
    "    model.add(Flatten())\n",
    "    model.add(Dropout(0.3))\n",
    "    model.add(Dense(128, \n",
    "                    activation='relu'))\n",
    "    model.add(Dense(32, \n",
    "                    activation='relu'))\n",
    "    model.add(Dense(2, \n",
    "                    activation='softmax'))\n",
    "              \n",
    "    model.summary()\n",
    "    model.compile(optimizer='adam', \n",
    "                  loss='categorical_crossentropy',\n",
    "                  metrics = ['accuracy'])\n",
    "\n",
    "    return model"
   ]
  },
  {
   "cell_type": "markdown",
   "metadata": {},
   "source": [
    "- sekarang kita akan melakukan proses training model dengan memanfaatkan `.fit()` pada model yang kita buat diatas.\n",
    "- selain itu kita gunakan juka teknik `EarlyStoping()` untuk menghentikan proses training jika terjadi divergensi pada validation data yang diakibatkan oleh overfitting. \n",
    "- pada `EarlyStoping()` kita gunakan parmeter `patience=3` yang artinya jika proses training untuk 3 epoch tidak terjadi peningkatan maka hentikan proses training."
   ]
  },
  {
   "cell_type": "code",
   "execution_count": 16,
   "metadata": {},
   "outputs": [],
   "source": [
    "def check_model(model_, x, y, x_val, y_val, epochs_, batch_size_):\n",
    "    callbacks = [EarlyStopping(monitor='val_loss', patience=8),\n",
    "                 ModelCheckpoint(filepath='cnn_best_model.h5', monitor='val_loss', save_best_only=True)]\n",
    "\n",
    "    hist = model_.fit(x, \n",
    "                      y,\n",
    "                      epochs=epochs_,\n",
    "                      callbacks=callbacks, \n",
    "                      batch_size=batch_size_,\n",
    "                      shuffle=True,\n",
    "                      validation_data=(x_val,y_val))\n",
    "                      #validation_split=0.15)\n",
    "    #model_.load_weights('cnn_best_model.h5')\n",
    "    return hist "
   ]
  },
  {
   "cell_type": "markdown",
   "metadata": {},
   "source": [
    "### Train Model CNN"
   ]
  },
  {
   "cell_type": "markdown",
   "metadata": {},
   "source": [
    "- jalankan proses training dengan `EPOCH` sebanyak 16 dan `BATCH_SIZE` sebesar 32"
   ]
  },
  {
   "cell_type": "code",
   "execution_count": 17,
   "metadata": {},
   "outputs": [],
   "source": [
    "X_train = X_train.reshape(len(X_train), X_train.shape[1],1)\n",
    "X_test = X_test.reshape(len(X_test), X_test.shape[1],1)"
   ]
  },
  {
   "cell_type": "code",
   "execution_count": 192,
   "metadata": {},
   "outputs": [
    {
     "name": "stdout",
     "output_type": "stream",
     "text": [
      "_________________________________________________________________\n",
      "Layer (type)                 Output Shape              Param #   \n",
      "=================================================================\n",
      "conv1d_1 (Conv1D)            (None, 296, 64)           384       \n",
      "_________________________________________________________________\n",
      "batch_normalization_1 (Batch (None, 296, 64)           256       \n",
      "_________________________________________________________________\n",
      "max_pooling1d_1 (MaxPooling1 (None, 148, 64)           0         \n",
      "_________________________________________________________________\n",
      "conv1d_2 (Conv1D)            (None, 146, 64)           12352     \n",
      "_________________________________________________________________\n",
      "batch_normalization_2 (Batch (None, 146, 64)           256       \n",
      "_________________________________________________________________\n",
      "max_pooling1d_2 (MaxPooling1 (None, 73, 64)            0         \n",
      "_________________________________________________________________\n",
      "conv1d_3 (Conv1D)            (None, 71, 64)            12352     \n",
      "_________________________________________________________________\n",
      "batch_normalization_3 (Batch (None, 71, 64)            256       \n",
      "_________________________________________________________________\n",
      "max_pooling1d_3 (MaxPooling1 (None, 36, 64)            0         \n",
      "_________________________________________________________________\n",
      "flatten_1 (Flatten)          (None, 2304)              0         \n",
      "_________________________________________________________________\n",
      "dropout_42 (Dropout)         (None, 2304)              0         \n",
      "_________________________________________________________________\n",
      "dense_200 (Dense)            (None, 128)               295040    \n",
      "_________________________________________________________________\n",
      "dense_201 (Dense)            (None, 32)                4128      \n",
      "_________________________________________________________________\n",
      "dense_202 (Dense)            (None, 2)                 66        \n",
      "=================================================================\n",
      "Total params: 325,090\n",
      "Trainable params: 324,706\n",
      "Non-trainable params: 384\n",
      "_________________________________________________________________\n",
      "Train on 51000 samples, validate on 9000 samples\n",
      "Epoch 1/16\n",
      "51000/51000 [==============================] - 66s 1ms/step - loss: 0.3115 - acc: 0.8648 - val_loss: 0.2215 - val_acc: 0.9048\n",
      "Epoch 2/16\n",
      "51000/51000 [==============================] - 60s 1ms/step - loss: 0.1883 - acc: 0.9231 - val_loss: 0.1843 - val_acc: 0.9229\n",
      "Epoch 3/16\n",
      "51000/51000 [==============================] - 88s 2ms/step - loss: 0.1362 - acc: 0.9439 - val_loss: 0.1393 - val_acc: 0.9444\n",
      "Epoch 4/16\n",
      "51000/51000 [==============================] - 72s 1ms/step - loss: 0.1102 - acc: 0.9557 - val_loss: 0.1205 - val_acc: 0.9539\n",
      "Epoch 5/16\n",
      "51000/51000 [==============================] - 63s 1ms/step - loss: 0.0896 - acc: 0.9648 - val_loss: 0.1070 - val_acc: 0.9598\n",
      "Epoch 6/16\n",
      "51000/51000 [==============================] - 86s 2ms/step - loss: 0.0754 - acc: 0.9701 - val_loss: 0.0769 - val_acc: 0.9688\n",
      "Epoch 7/16\n",
      "51000/51000 [==============================] - 79s 2ms/step - loss: 0.0637 - acc: 0.9753 - val_loss: 0.0816 - val_acc: 0.9720\n",
      "Epoch 8/16\n",
      "51000/51000 [==============================] - 113s 2ms/step - loss: 0.0556 - acc: 0.9781 - val_loss: 0.0720 - val_acc: 0.9734\n",
      "Epoch 9/16\n",
      "51000/51000 [==============================] - 82s 2ms/step - loss: 0.0462 - acc: 0.9821 - val_loss: 0.1020 - val_acc: 0.9670\n",
      "Epoch 10/16\n",
      "51000/51000 [==============================] - 113s 2ms/step - loss: 0.0461 - acc: 0.9829 - val_loss: 0.0726 - val_acc: 0.9740\n",
      "Epoch 11/16\n",
      "51000/51000 [==============================] - 93s 2ms/step - loss: 0.0380 - acc: 0.9855 - val_loss: 0.0547 - val_acc: 0.9827\n",
      "Epoch 12/16\n",
      "51000/51000 [==============================] - 63s 1ms/step - loss: 0.0328 - acc: 0.9871 - val_loss: 0.0503 - val_acc: 0.9836\n",
      "Epoch 13/16\n",
      "51000/51000 [==============================] - 63s 1ms/step - loss: 0.0363 - acc: 0.9867 - val_loss: 0.0551 - val_acc: 0.9822\n",
      "Epoch 14/16\n",
      "51000/51000 [==============================] - 64s 1ms/step - loss: 0.0294 - acc: 0.9890 - val_loss: 0.0581 - val_acc: 0.9838\n",
      "Epoch 15/16\n",
      "51000/51000 [==============================] - 65s 1ms/step - loss: 0.0274 - acc: 0.9893 - val_loss: 0.0699 - val_acc: 0.9791\n",
      "Epoch 16/16\n",
      "51000/51000 [==============================] - 65s 1ms/step - loss: 0.0258 - acc: 0.9900 - val_loss: 0.0580 - val_acc: 0.9838\n"
     ]
    }
   ],
   "source": [
    "max_len = X_train.shape[1]  \n",
    "\n",
    "EPOCHS = 16\n",
    "BATCH_SIZE = 128\n",
    "\n",
    "model = cnn_model(max_len)\n",
    "history=check_model(model, X_train,y_train,X_test,y_test, EPOCHS, BATCH_SIZE)"
   ]
  },
  {
   "cell_type": "markdown",
   "metadata": {},
   "source": [
    "- Save model"
   ]
  },
  {
   "cell_type": "code",
   "execution_count": 193,
   "metadata": {},
   "outputs": [],
   "source": [
    "model.save(\"CNN_Classification_model.h5\")"
   ]
  },
  {
   "cell_type": "markdown",
   "metadata": {},
   "source": [
    "- save model training history (log)"
   ]
  },
  {
   "cell_type": "code",
   "execution_count": 194,
   "metadata": {},
   "outputs": [],
   "source": [
    "pd.DataFrame.from_dict(history.history).to_csv('history_train_classif_cnn.csv',index=False)"
   ]
  },
  {
   "cell_type": "markdown",
   "metadata": {},
   "source": [
    "# Evaluate Model\n",
    "\n",
    "- Plot Accuracy vs Epochs\n",
    "- Plot Loss vs Epochs\n",
    "- Plot Confusion Matrix"
   ]
  },
  {
   "cell_type": "code",
   "execution_count": 195,
   "metadata": {},
   "outputs": [
    {
     "data": {
      "image/png": "[encoded data removed]",
      "text/plain": [
       "<Figure size 432x288 with 1 Axes>"
      ]
     },
     "metadata": {
      "needs_background": "light"
     },
     "output_type": "display_data"
    },
    {
     "data": {
      "image/png": "[encoded data removed]",
      "text/plain": [
       "<Figure size 432x288 with 1 Axes>"
      ]
     },
     "metadata": {
      "needs_background": "light"
     },
     "output_type": "display_data"
    }
   ],
   "source": [
    "def evaluate_model(history):\n",
    "    \n",
    "    fig1, ax_acc = plt.subplots()\n",
    "    plt.plot(history.history['acc'])\n",
    "    plt.plot(history.history['val_acc'])\n",
    "    plt.xlabel('Epoch')\n",
    "    plt.ylabel('Accuracy')\n",
    "    plt.title('Model - Accuracy')\n",
    "    plt.legend(['Training', 'Validation'], loc='lower right')\n",
    "    plt.grid()\n",
    "    plt.show()\n",
    "    \n",
    "    fig2, ax_loss = plt.subplots()\n",
    "    plt.plot(history.history['loss'])\n",
    "    plt.plot(history.history['val_loss'])\n",
    "    plt.xlabel('Epoch')\n",
    "    plt.ylabel('Loss')\n",
    "    plt.title('Model- Loss')\n",
    "    plt.legend(['Training', 'Validation'], loc='upper right')\n",
    "    plt.grid()\n",
    "    plt.show()\n",
    "\n",
    "evaluate_model(history)    "
   ]
  },
  {
   "cell_type": "markdown",
   "metadata": {},
   "source": [
    "- Dari hasil diatas kita bisa melihat jika akurasi training set = 0.99, sedangkan untuk akurasi validation set = 0.97\n",
    "- Untuk plot loss training set = 0.01 sedangkan untuk loss validation set = 0.13"
   ]
  },
  {
   "cell_type": "code",
   "execution_count": 26,
   "metadata": {},
   "outputs": [],
   "source": [
    "import itertools\n",
    "def plot_confusion_matrix(cm, classes,\n",
    "                          normalize=False,\n",
    "                          title='Confusion matrix',\n",
    "                          cmap=plt.cm.Blues):\n",
    "    if normalize:\n",
    "        cm = cm.astype('float') / cm.sum(axis=1)[:, np.newaxis]\n",
    "\n",
    "    plt.figure(figsize=(5, 5))\n",
    "    \n",
    "    plt.imshow(cm, interpolation='nearest', cmap=cmap)\n",
    "    plt.title(title)\n",
    "    plt.colorbar()\n",
    "    tick_marks = np.arange(len(classes))\n",
    "    plt.xticks(tick_marks, classes, rotation=45)\n",
    "    plt.yticks(tick_marks, classes)\n",
    "\n",
    "    fmt = '.2f' if normalize else 'd'\n",
    "    thresh = cm.max() / 2.\n",
    "    for i, j in itertools.product(range(cm.shape[0]), range(cm.shape[1])):\n",
    "        plt.text(j, i, format(cm[i, j], fmt),\n",
    "                 horizontalalignment=\"center\",\n",
    "                 color=\"white\" if cm[i, j] > thresh else \"black\")\n",
    "\n",
    "    plt.tight_layout()\n",
    "    plt.ylabel('True label')\n",
    "    plt.xlabel('Predicted label')\n",
    "    plt.show()"
   ]
  },
  {
   "cell_type": "code",
   "execution_count": 197,
   "metadata": {},
   "outputs": [
    {
     "data": {
      "image/png": "[encoded data removed]",
      "text/plain": [
       "<Figure size 360x360 with 2 Axes>"
      ]
     },
     "metadata": {
      "needs_background": "light"
     },
     "output_type": "display_data"
    }
   ],
   "source": [
    "# predict test data\n",
    "y_pred=model.predict(X_test)\n",
    "\n",
    "\n",
    "# Compute confusion matrix\n",
    "cnf_matrix = confusion_matrix(y_test.argmax(axis=1), y_pred.argmax(axis=1))\n",
    "np.set_printoptions(precision=2)\n",
    "\n",
    "\n",
    "# Plot non-normalized confusion matrix\n",
    "plot_confusion_matrix(cnf_matrix, classes=['AF', 'N'],normalize=True,\n",
    "                      title='Confusion matrix - CNN')\n"
   ]
  },
  {
   "cell_type": "markdown",
   "metadata": {},
   "source": [
    "- dari hasil plot confusion matrix, dapat dilihat tiap kelas memiliki banyak TRUE POSITIVE predicted data\n",
    "- semakin gelap kebiruan menunjukan banyaknya hasil predicted label untuk true label tersebut"
   ]
  },
  {
   "cell_type": "code",
   "execution_count": null,
   "metadata": {},
   "outputs": [],
   "source": [
    "print(classification_report(y_test.argmax(axis=1), \n",
    "                            y_pred.argmax(axis=1), \n",
    "                            target_names=['AF', 'N']))"
   ]
  },
  {
   "cell_type": "markdown",
   "metadata": {},
   "source": [
    "- Jika kita lihat, nilai report untuk seluruh klas juga bagus, \n",
    "- Nilai recall dan precission juga tinggi, menunjukan model mampu memprediksi data dengan baik untuk seluruh data pada sclass tersebut "
   ]
  },
  {
   "cell_type": "code",
   "execution_count": null,
   "metadata": {},
   "outputs": [],
   "source": []
  },
  {
   "cell_type": "markdown",
   "metadata": {},
   "source": [
    "___\n",
    "\n",
    "## 2. Classification Deep Neural Network (DNN)"
   ]
  },
  {
   "cell_type": "code",
   "execution_count": 172,
   "metadata": {},
   "outputs": [],
   "source": [
    "def dnn_model(max_len):\n",
    "    \n",
    "    model = Sequential()\n",
    "    \n",
    "    model.add(Dense(1024,\n",
    "                    activation='relu',\n",
    "                    input_shape=(max_len, )))\n",
    "    model.add(Dropout(0.3))\n",
    "    model.add(Dense(1024,\n",
    "                    activation='relu'))\n",
    "    model.add(Dropout(0.3))\n",
    "    model.add(Dense(512,\n",
    "                    activation='relu'))\n",
    "    model.add(Dropout(0.2))\n",
    "    model.add(Dense(128,\n",
    "                    activation='relu'))\n",
    "    model.add(Dense(64,\n",
    "                    activation='relu'))\n",
    "    model.add(Dense(2,\n",
    "                    activation='softmax'))\n",
    "              \n",
    "    model.summary()\n",
    "    model.compile(optimizer='adam', \n",
    "                  loss='categorical_crossentropy',\n",
    "                  metrics = ['accuracy'])\n",
    "\n",
    "    return model"
   ]
  },
  {
   "cell_type": "code",
   "execution_count": 173,
   "metadata": {},
   "outputs": [],
   "source": [
    "def check_model(model_, x, y, x_val, y_val, epochs_, batch_size_):\n",
    "    callbacks = [EarlyStopping(monitor='val_loss', patience=8),\n",
    "                 ModelCheckpoint(filepath='dnn_best_model.h5', monitor='val_loss', save_best_only=True)]\n",
    "\n",
    "    hist = model_.fit(x, \n",
    "                      y,\n",
    "                      epochs=epochs_,\n",
    "                      callbacks=callbacks, \n",
    "                      batch_size=batch_size_,\n",
    "                      shuffle=True,\n",
    "                      validation_data=(x_val,y_val))\n",
    "                      #validation_split=0.15)\n",
    "    #model_.load_weights('dnn_best_model.h5')\n",
    "    return hist "
   ]
  },
  {
   "cell_type": "markdown",
   "metadata": {},
   "source": [
    "- reshape tensor"
   ]
  },
  {
   "cell_type": "code",
   "execution_count": 179,
   "metadata": {},
   "outputs": [],
   "source": [
    "X_train = X_train.reshape(len(X_train), X_train.shape[1])\n",
    "X_test = X_test.reshape(len(X_test), X_test.shape[1])"
   ]
  },
  {
   "cell_type": "markdown",
   "metadata": {},
   "source": [
    "- run training"
   ]
  },
  {
   "cell_type": "code",
   "execution_count": 180,
   "metadata": {},
   "outputs": [
    {
     "name": "stdout",
     "output_type": "stream",
     "text": [
      "_________________________________________________________________\n",
      "Layer (type)                 Output Shape              Param #   \n",
      "=================================================================\n",
      "dense_194 (Dense)            (None, 1024)              308224    \n",
      "_________________________________________________________________\n",
      "dropout_39 (Dropout)         (None, 1024)              0         \n",
      "_________________________________________________________________\n",
      "dense_195 (Dense)            (None, 1024)              1049600   \n",
      "_________________________________________________________________\n",
      "dropout_40 (Dropout)         (None, 1024)              0         \n",
      "_________________________________________________________________\n",
      "dense_196 (Dense)            (None, 512)               524800    \n",
      "_________________________________________________________________\n",
      "dropout_41 (Dropout)         (None, 512)               0         \n",
      "_________________________________________________________________\n",
      "dense_197 (Dense)            (None, 128)               65664     \n",
      "_________________________________________________________________\n",
      "dense_198 (Dense)            (None, 64)                8256      \n",
      "_________________________________________________________________\n",
      "dense_199 (Dense)            (None, 2)                 130       \n",
      "=================================================================\n",
      "Total params: 1,956,674\n",
      "Trainable params: 1,956,674\n",
      "Non-trainable params: 0\n",
      "_________________________________________________________________\n",
      "Train on 51000 samples, validate on 9000 samples\n",
      "Epoch 1/50\n",
      "51000/51000 [==============================] - 26s 505us/step - loss: 0.4341 - acc: 0.8045 - val_loss: 0.3711 - val_acc: 0.8260\n",
      "Epoch 2/50\n",
      "51000/51000 [==============================] - 22s 435us/step - loss: 0.3559 - acc: 0.8395 - val_loss: 0.3147 - val_acc: 0.8584\n",
      "Epoch 3/50\n",
      "51000/51000 [==============================] - 22s 430us/step - loss: 0.3199 - acc: 0.8596 - val_loss: 0.2798 - val_acc: 0.8791\n",
      "Epoch 4/50\n",
      "51000/51000 [==============================] - 22s 431us/step - loss: 0.2994 - acc: 0.8701 - val_loss: 0.2624 - val_acc: 0.8862\n",
      "Epoch 5/50\n",
      "51000/51000 [==============================] - 21s 415us/step - loss: 0.2844 - acc: 0.8784 - val_loss: 0.2485 - val_acc: 0.8903\n",
      "Epoch 6/50\n",
      "51000/51000 [==============================] - 21s 410us/step - loss: 0.2673 - acc: 0.8851 - val_loss: 0.2398 - val_acc: 0.8959\n",
      "Epoch 7/50\n",
      "51000/51000 [==============================] - 21s 408us/step - loss: 0.2561 - acc: 0.8906 - val_loss: 0.2282 - val_acc: 0.8978\n",
      "Epoch 8/50\n",
      "51000/51000 [==============================] - 21s 415us/step - loss: 0.2452 - acc: 0.8959 - val_loss: 0.2146 - val_acc: 0.9060\n",
      "Epoch 9/50\n",
      "51000/51000 [==============================] - 21s 420us/step - loss: 0.2356 - acc: 0.9001 - val_loss: 0.1987 - val_acc: 0.9148\n",
      "Epoch 10/50\n",
      "51000/51000 [==============================] - 21s 419us/step - loss: 0.2255 - acc: 0.9050 - val_loss: 0.2021 - val_acc: 0.9128\n",
      "Epoch 11/50\n",
      "51000/51000 [==============================] - 21s 419us/step - loss: 0.2170 - acc: 0.9089 - val_loss: 0.1904 - val_acc: 0.9186\n",
      "Epoch 12/50\n",
      "51000/51000 [==============================] - 21s 420us/step - loss: 0.2145 - acc: 0.9098 - val_loss: 0.1978 - val_acc: 0.9150\n",
      "Epoch 13/50\n",
      "51000/51000 [==============================] - 21s 419us/step - loss: 0.2069 - acc: 0.9136 - val_loss: 0.1887 - val_acc: 0.9198\n",
      "Epoch 14/50\n",
      "51000/51000 [==============================] - 21s 418us/step - loss: 0.1972 - acc: 0.9162 - val_loss: 0.1777 - val_acc: 0.9279\n",
      "Epoch 15/50\n",
      "51000/51000 [==============================] - 21s 421us/step - loss: 0.1939 - acc: 0.9185 - val_loss: 0.1716 - val_acc: 0.9318\n",
      "Epoch 16/50\n",
      "51000/51000 [==============================] - 22s 425us/step - loss: 0.1892 - acc: 0.9218 - val_loss: 0.1655 - val_acc: 0.9336\n",
      "Epoch 17/50\n",
      "51000/51000 [==============================] - 22s 440us/step - loss: 0.1856 - acc: 0.9235 - val_loss: 0.1651 - val_acc: 0.9316\n",
      "Epoch 18/50\n",
      "51000/51000 [==============================] - 23s 442us/step - loss: 0.1822 - acc: 0.9258 - val_loss: 0.1709 - val_acc: 0.9291\n",
      "Epoch 19/50\n",
      "51000/51000 [==============================] - 22s 434us/step - loss: 0.1770 - acc: 0.9261 - val_loss: 0.1669 - val_acc: 0.9358\n",
      "Epoch 20/50\n",
      "51000/51000 [==============================] - 24s 463us/step - loss: 0.1781 - acc: 0.9271 - val_loss: 0.1599 - val_acc: 0.9327\n",
      "Epoch 21/50\n",
      "51000/51000 [==============================] - 23s 454us/step - loss: 0.1701 - acc: 0.9309 - val_loss: 0.1538 - val_acc: 0.9396\n",
      "Epoch 22/50\n",
      "51000/51000 [==============================] - 23s 456us/step - loss: 0.1713 - acc: 0.9301 - val_loss: 0.1492 - val_acc: 0.9381\n",
      "Epoch 23/50\n",
      "51000/51000 [==============================] - 23s 446us/step - loss: 0.1700 - acc: 0.9312 - val_loss: 0.1483 - val_acc: 0.9387\n",
      "Epoch 24/50\n",
      "51000/51000 [==============================] - 22s 425us/step - loss: 0.1622 - acc: 0.9344 - val_loss: 0.1426 - val_acc: 0.9417\n",
      "Epoch 25/50\n",
      "51000/51000 [==============================] - 22s 437us/step - loss: 0.1593 - acc: 0.9356 - val_loss: 0.1466 - val_acc: 0.9381\n",
      "Epoch 26/50\n",
      "51000/51000 [==============================] - 21s 416us/step - loss: 0.1576 - acc: 0.9338 - val_loss: 0.1440 - val_acc: 0.9413\n",
      "Epoch 27/50\n",
      "51000/51000 [==============================] - 21s 410us/step - loss: 0.1549 - acc: 0.9379 - val_loss: 0.1512 - val_acc: 0.9369\n",
      "Epoch 28/50\n",
      "51000/51000 [==============================] - 21s 414us/step - loss: 0.1520 - acc: 0.9377 - val_loss: 0.1471 - val_acc: 0.9400\n",
      "Epoch 29/50\n",
      "51000/51000 [==============================] - 21s 413us/step - loss: 0.1486 - acc: 0.9401 - val_loss: 0.1417 - val_acc: 0.9424\n",
      "Epoch 30/50\n",
      "51000/51000 [==============================] - 22s 438us/step - loss: 0.1510 - acc: 0.9384 - val_loss: 0.1358 - val_acc: 0.9440\n",
      "Epoch 31/50\n",
      "51000/51000 [==============================] - 21s 412us/step - loss: 0.1431 - acc: 0.9419 - val_loss: 0.1304 - val_acc: 0.9478\n",
      "Epoch 32/50\n",
      "51000/51000 [==============================] - 21s 405us/step - loss: 0.1441 - acc: 0.9405 - val_loss: 0.1340 - val_acc: 0.9461\n",
      "Epoch 33/50\n",
      "51000/51000 [==============================] - 21s 406us/step - loss: 0.1420 - acc: 0.9421 - val_loss: 0.1324 - val_acc: 0.9479\n",
      "Epoch 34/50\n",
      "51000/51000 [==============================] - 21s 406us/step - loss: 0.1385 - acc: 0.9435 - val_loss: 0.1319 - val_acc: 0.9503\n",
      "Epoch 35/50\n",
      "51000/51000 [==============================] - 21s 406us/step - loss: 0.1377 - acc: 0.9442 - val_loss: 0.1308 - val_acc: 0.9483\n",
      "Epoch 36/50\n",
      "51000/51000 [==============================] - 21s 414us/step - loss: 0.1350 - acc: 0.9451 - val_loss: 0.1276 - val_acc: 0.9489\n",
      "Epoch 37/50\n",
      "51000/51000 [==============================] - 22s 422us/step - loss: 0.1367 - acc: 0.9446 - val_loss: 0.1227 - val_acc: 0.9518\n",
      "Epoch 38/50\n",
      "51000/51000 [==============================] - 20s 402us/step - loss: 0.1342 - acc: 0.9460 - val_loss: 0.1284 - val_acc: 0.9487\n",
      "Epoch 39/50\n",
      "51000/51000 [==============================] - 21s 418us/step - loss: 0.1302 - acc: 0.9489 - val_loss: 0.1267 - val_acc: 0.9480\n",
      "Epoch 40/50\n",
      "51000/51000 [==============================] - 21s 405us/step - loss: 0.1309 - acc: 0.9472 - val_loss: 0.1206 - val_acc: 0.9521\n",
      "Epoch 41/50\n",
      "51000/51000 [==============================] - 20s 393us/step - loss: 0.1307 - acc: 0.9476 - val_loss: 0.1226 - val_acc: 0.9504\n",
      "Epoch 42/50\n",
      "51000/51000 [==============================] - 21s 406us/step - loss: 0.1263 - acc: 0.9498 - val_loss: 0.1171 - val_acc: 0.9530\n",
      "Epoch 43/50\n",
      "51000/51000 [==============================] - 20s 401us/step - loss: 0.1211 - acc: 0.9514 - val_loss: 0.1288 - val_acc: 0.9512\n",
      "Epoch 44/50\n",
      "51000/51000 [==============================] - 21s 409us/step - loss: 0.1224 - acc: 0.9508 - val_loss: 0.1115 - val_acc: 0.9587\n",
      "Epoch 45/50\n",
      "51000/51000 [==============================] - 21s 404us/step - loss: 0.1207 - acc: 0.9521 - val_loss: 0.1168 - val_acc: 0.9567\n",
      "Epoch 46/50\n",
      "51000/51000 [==============================] - 20s 394us/step - loss: 0.1219 - acc: 0.9527 - val_loss: 0.1155 - val_acc: 0.9562\n",
      "Epoch 47/50\n",
      "51000/51000 [==============================] - 21s 408us/step - loss: 0.1207 - acc: 0.9515 - val_loss: 0.1090 - val_acc: 0.9596\n",
      "Epoch 48/50\n",
      "51000/51000 [==============================] - 22s 423us/step - loss: 0.1178 - acc: 0.9536 - val_loss: 0.1115 - val_acc: 0.9584\n",
      "Epoch 49/50\n",
      "51000/51000 [==============================] - 21s 411us/step - loss: 0.1142 - acc: 0.9531 - val_loss: 0.1102 - val_acc: 0.9577\n",
      "Epoch 50/50\n",
      "51000/51000 [==============================] - 20s 401us/step - loss: 0.1144 - acc: 0.9547 - val_loss: 0.1237 - val_acc: 0.9506\n"
     ]
    }
   ],
   "source": [
    "max_len = X_train.shape[1]  \n",
    "\n",
    "EPOCHS = 50\n",
    "BATCH_SIZE = 128\n",
    "\n",
    "model = dnn_model(max_len)\n",
    "history = check_model(model, X_train,y_train,X_test,y_test, EPOCHS, BATCH_SIZE)"
   ]
  },
  {
   "cell_type": "markdown",
   "metadata": {},
   "source": [
    "- plot history"
   ]
  },
  {
   "cell_type": "code",
   "execution_count": 181,
   "metadata": {},
   "outputs": [
    {
     "data": {
      "image/png": "[encoded data removed]",
      "text/plain": [
       "<Figure size 432x288 with 1 Axes>"
      ]
     },
     "metadata": {
      "needs_background": "light"
     },
     "output_type": "display_data"
    },
    {
     "data": {
      "image/png": "[encoded data removed]",
      "text/plain": [
       "<Figure size 432x288 with 1 Axes>"
      ]
     },
     "metadata": {
      "needs_background": "light"
     },
     "output_type": "display_data"
    }
   ],
   "source": [
    "evaluate_model(history)"
   ]
  },
  {
   "cell_type": "markdown",
   "metadata": {},
   "source": [
    "- save model"
   ]
  },
  {
   "cell_type": "code",
   "execution_count": 182,
   "metadata": {},
   "outputs": [],
   "source": [
    "model.save(\"DNN_Classification_model.h5\")"
   ]
  },
  {
   "cell_type": "markdown",
   "metadata": {},
   "source": [
    "- save training history"
   ]
  },
  {
   "cell_type": "code",
   "execution_count": 183,
   "metadata": {},
   "outputs": [],
   "source": [
    "pd.DataFrame.from_dict(history.history).to_csv('history_train_classif_dnn.csv',index=False)"
   ]
  },
  {
   "cell_type": "markdown",
   "metadata": {},
   "source": [
    "- predict to all test dataset & plot confusion matrix"
   ]
  },
  {
   "cell_type": "code",
   "execution_count": 184,
   "metadata": {},
   "outputs": [
    {
     "data": {
      "image/png": "[encoded data removed]",
      "text/plain": [
       "<Figure size 360x360 with 2 Axes>"
      ]
     },
     "metadata": {
      "needs_background": "light"
     },
     "output_type": "display_data"
    }
   ],
   "source": [
    "# predict test data\n",
    "y_pred=model.predict(X_test)\n",
    "\n",
    "\n",
    "# Compute confusion matrix\n",
    "cnf_matrix = confusion_matrix(y_test.argmax(axis=1), y_pred.argmax(axis=1))\n",
    "np.set_printoptions(precision=2)\n",
    "\n",
    "\n",
    "# Plot non-normalized confusion matrix\n",
    "plot_confusion_matrix(cnf_matrix, classes=['AF', 'N'],normalize=True,\n",
    "                      title='Confusion matrix - DNN')\n"
   ]
  },
  {
   "cell_type": "markdown",
   "metadata": {},
   "source": [
    "- plot classification report"
   ]
  },
  {
   "cell_type": "code",
   "execution_count": 185,
   "metadata": {},
   "outputs": [
    {
     "name": "stdout",
     "output_type": "stream",
     "text": [
      "              precision    recall  f1-score   support\n",
      "\n",
      "          AF       0.94      0.96      0.95      4445\n",
      "           N       0.96      0.94      0.95      4555\n",
      "\n",
      "    accuracy                           0.95      9000\n",
      "   macro avg       0.95      0.95      0.95      9000\n",
      "weighted avg       0.95      0.95      0.95      9000\n",
      "\n"
     ]
    }
   ],
   "source": [
    "print(classification_report(y_test.argmax(axis=1), \n",
    "                            y_pred.argmax(axis=1), \n",
    "                            target_names=['AF', 'N']))"
   ]
  },
  {
   "cell_type": "code",
   "execution_count": null,
   "metadata": {},
   "outputs": [],
   "source": []
  },
  {
   "cell_type": "markdown",
   "metadata": {},
   "source": [
    "___\n",
    "\n",
    "## 3. Classification Recurrent Neural Network (RNN)"
   ]
  },
  {
   "cell_type": "code",
   "execution_count": 17,
   "metadata": {},
   "outputs": [],
   "source": [
    "from keras.layers import LSTM, CuDNNLSTM, Bidirectional\n",
    "from keras.optimizers import Adam, Adadelta"
   ]
  },
  {
   "cell_type": "code",
   "execution_count": 18,
   "metadata": {},
   "outputs": [],
   "source": [
    "def rnn_model(max_len):\n",
    "    opt = Adadelta()\n",
    "    model = Sequential()\n",
    "    \n",
    "    model.add(Bidirectional(CuDNNLSTM(64,\n",
    "                     return_sequences = True),\n",
    "                     input_shape=(max_len, 1)))\n",
    "    model.add(Bidirectional(CuDNNLSTM(64,\n",
    "                      return_sequences = False)))\n",
    "    model.add(Dense(64, \n",
    "                    activation='relu'))\n",
    "    model.add(Dense(32, \n",
    "                    activation='relu'))\n",
    "    model.add(Dense(2, \n",
    "                    activation='softmax'))\n",
    "              \n",
    "    model.summary()\n",
    "    model.compile(optimizer=opt, \n",
    "                  loss='categorical_crossentropy',\n",
    "                  metrics = ['accuracy'])\n",
    "\n",
    "    return model"
   ]
  },
  {
   "cell_type": "code",
   "execution_count": 19,
   "metadata": {},
   "outputs": [],
   "source": [
    "def check_model(model_, x, y, x_val, y_val, epochs_, batch_size_):\n",
    "    callbacks = [EarlyStopping(monitor='val_loss', patience=8),\n",
    "                 ModelCheckpoint(filepath='rnn_best_model.h5', monitor='val_loss', save_best_only=True)]\n",
    "\n",
    "    hist = model_.fit(x, \n",
    "                      y,\n",
    "                      epochs=epochs_,\n",
    "                      callbacks=callbacks, \n",
    "                      batch_size=batch_size_,\n",
    "                      shuffle=True,\n",
    "                      validation_data=(x_val,y_val))\n",
    "                      #validation_split=0.15)\n",
    "    #model_.load_weights('rnn_best_model.h5')\n",
    "    return hist "
   ]
  },
  {
   "cell_type": "markdown",
   "metadata": {},
   "source": [
    "- reshape tensor"
   ]
  },
  {
   "cell_type": "code",
   "execution_count": 20,
   "metadata": {},
   "outputs": [],
   "source": [
    "X_train = X_train.reshape(len(X_train), X_train.shape[1],1)\n",
    "X_test = X_test.reshape(len(X_test), X_test.shape[1],1)"
   ]
  },
  {
   "cell_type": "markdown",
   "metadata": {},
   "source": [
    "- run training"
   ]
  },
  {
   "cell_type": "code",
   "execution_count": 21,
   "metadata": {},
   "outputs": [
    {
     "name": "stdout",
     "output_type": "stream",
     "text": [
      "_________________________________________________________________\n",
      "Layer (type)                 Output Shape              Param #   \n",
      "=================================================================\n",
      "bidirectional_1 (Bidirection (None, 300, 128)          34304     \n",
      "_________________________________________________________________\n",
      "bidirectional_2 (Bidirection (None, 128)               99328     \n",
      "_________________________________________________________________\n",
      "dense_1 (Dense)              (None, 64)                8256      \n",
      "_________________________________________________________________\n",
      "dense_2 (Dense)              (None, 32)                2080      \n",
      "_________________________________________________________________\n",
      "dense_3 (Dense)              (None, 2)                 66        \n",
      "=================================================================\n",
      "Total params: 144,034\n",
      "Trainable params: 144,034\n",
      "Non-trainable params: 0\n",
      "_________________________________________________________________\n",
      "Train on 51000 samples, validate on 9000 samples\n",
      "Epoch 1/50\n",
      "51000/51000 [==============================] - 339s 7ms/step - loss: 0.5633 - acc: 0.7053 - val_loss: 0.5986 - val_acc: 0.7058\n",
      "Epoch 2/50\n",
      "51000/51000 [==============================] - 343s 7ms/step - loss: 0.4932 - acc: 0.7623 - val_loss: 0.4415 - val_acc: 0.7919\n",
      "Epoch 3/50\n",
      "51000/51000 [==============================] - 346s 7ms/step - loss: 0.4035 - acc: 0.8221 - val_loss: 0.3823 - val_acc: 0.8294\n",
      "Epoch 4/50\n",
      "51000/51000 [==============================] - 347s 7ms/step - loss: 0.3585 - acc: 0.8434 - val_loss: 0.3399 - val_acc: 0.8616\n",
      "Epoch 5/50\n",
      "51000/51000 [==============================] - 342s 7ms/step - loss: 0.3331 - acc: 0.8560 - val_loss: 0.3268 - val_acc: 0.8607\n",
      "Epoch 6/50\n",
      "51000/51000 [==============================] - 346s 7ms/step - loss: 0.3064 - acc: 0.8688 - val_loss: 0.2920 - val_acc: 0.8750\n",
      "Epoch 7/50\n",
      "51000/51000 [==============================] - 346s 7ms/step - loss: 0.3719 - acc: 0.8309 - val_loss: 0.4388 - val_acc: 0.7994\n",
      "Epoch 8/50\n",
      "51000/51000 [==============================] - 346s 7ms/step - loss: 0.2967 - acc: 0.8733 - val_loss: 0.2737 - val_acc: 0.8838\n",
      "Epoch 9/50\n",
      "51000/51000 [==============================] - 346s 7ms/step - loss: 0.2605 - acc: 0.8892 - val_loss: 0.2927 - val_acc: 0.8710\n",
      "Epoch 10/50\n",
      "51000/51000 [==============================] - 346s 7ms/step - loss: 0.2418 - acc: 0.8983 - val_loss: 0.2381 - val_acc: 0.9021\n",
      "Epoch 11/50\n",
      "51000/51000 [==============================] - 346s 7ms/step - loss: 0.2279 - acc: 0.9053 - val_loss: 0.2528 - val_acc: 0.8916\n",
      "Epoch 12/50\n",
      "51000/51000 [==============================] - 345s 7ms/step - loss: 0.2159 - acc: 0.9108 - val_loss: 0.2239 - val_acc: 0.9043\n",
      "Epoch 13/50\n",
      "51000/51000 [==============================] - 345s 7ms/step - loss: 0.2012 - acc: 0.9168 - val_loss: 0.2004 - val_acc: 0.9134\n",
      "Epoch 14/50\n",
      "51000/51000 [==============================] - 345s 7ms/step - loss: 0.2487 - acc: 0.8953 - val_loss: 0.2269 - val_acc: 0.9078\n",
      "Epoch 15/50\n",
      "51000/51000 [==============================] - 345s 7ms/step - loss: 0.1864 - acc: 0.9228 - val_loss: 0.1995 - val_acc: 0.9138\n",
      "Epoch 16/50\n",
      "51000/51000 [==============================] - 346s 7ms/step - loss: 0.2139 - acc: 0.9106 - val_loss: 0.1826 - val_acc: 0.9240\n",
      "Epoch 17/50\n",
      "51000/51000 [==============================] - 345s 7ms/step - loss: 0.1997 - acc: 0.9173 - val_loss: 0.2702 - val_acc: 0.8966\n",
      "Epoch 18/50\n",
      "51000/51000 [==============================] - 346s 7ms/step - loss: 0.1787 - acc: 0.9270 - val_loss: 0.1794 - val_acc: 0.9281\n",
      "Epoch 19/50\n",
      "51000/51000 [==============================] - 346s 7ms/step - loss: 0.1646 - acc: 0.9339 - val_loss: 0.1725 - val_acc: 0.9308\n",
      "Epoch 20/50\n",
      "51000/51000 [==============================] - 346s 7ms/step - loss: 0.1590 - acc: 0.9359 - val_loss: 0.1873 - val_acc: 0.9219\n",
      "Epoch 21/50\n",
      "51000/51000 [==============================] - 346s 7ms/step - loss: 0.1482 - acc: 0.9405 - val_loss: 0.1494 - val_acc: 0.9392\n",
      "Epoch 22/50\n",
      "51000/51000 [==============================] - 345s 7ms/step - loss: 0.1420 - acc: 0.9428 - val_loss: 0.1883 - val_acc: 0.9278\n",
      "Epoch 23/50\n",
      "51000/51000 [==============================] - 356s 7ms/step - loss: 0.1329 - acc: 0.9472 - val_loss: 0.1653 - val_acc: 0.9351\n",
      "Epoch 24/50\n",
      "51000/51000 [==============================] - 362s 7ms/step - loss: 0.1244 - acc: 0.9505 - val_loss: 0.1488 - val_acc: 0.9399\n",
      "Epoch 25/50\n",
      "51000/51000 [==============================] - 365s 7ms/step - loss: 0.1208 - acc: 0.9529 - val_loss: 0.1522 - val_acc: 0.9406\n",
      "Epoch 26/50\n",
      "51000/51000 [==============================] - 366s 7ms/step - loss: 0.1161 - acc: 0.9549 - val_loss: 0.1419 - val_acc: 0.9449\n",
      "Epoch 27/50\n",
      "51000/51000 [==============================] - 363s 7ms/step - loss: 0.1102 - acc: 0.9576 - val_loss: 0.1422 - val_acc: 0.9471\n",
      "Epoch 28/50\n",
      "51000/51000 [==============================] - 365s 7ms/step - loss: 0.1041 - acc: 0.9600 - val_loss: 0.1236 - val_acc: 0.9528\n",
      "Epoch 29/50\n",
      "51000/51000 [==============================] - 368s 7ms/step - loss: 0.1045 - acc: 0.9599 - val_loss: 0.1495 - val_acc: 0.9429\n",
      "Epoch 30/50\n",
      "51000/51000 [==============================] - 359s 7ms/step - loss: 0.1006 - acc: 0.9611 - val_loss: 0.1372 - val_acc: 0.9518\n",
      "Epoch 31/50\n",
      "51000/51000 [==============================] - 364s 7ms/step - loss: 0.0900 - acc: 0.9651 - val_loss: 0.1382 - val_acc: 0.9519\n",
      "Epoch 32/50\n",
      "51000/51000 [==============================] - 362s 7ms/step - loss: 0.0882 - acc: 0.9667 - val_loss: 0.1128 - val_acc: 0.9613\n",
      "Epoch 33/50\n",
      "51000/51000 [==============================] - 367s 7ms/step - loss: 0.0846 - acc: 0.9682 - val_loss: 0.1183 - val_acc: 0.9602\n",
      "Epoch 34/50\n",
      "51000/51000 [==============================] - 367s 7ms/step - loss: 0.0973 - acc: 0.9633 - val_loss: 0.1110 - val_acc: 0.9599\n",
      "Epoch 35/50\n",
      "51000/51000 [==============================] - 362s 7ms/step - loss: 0.0935 - acc: 0.9649 - val_loss: 0.1457 - val_acc: 0.9512\n",
      "Epoch 36/50\n",
      "51000/51000 [==============================] - 366s 7ms/step - loss: 0.0781 - acc: 0.9713 - val_loss: 0.1071 - val_acc: 0.9658\n",
      "Epoch 37/50\n",
      "51000/51000 [==============================] - 368s 7ms/step - loss: 0.0722 - acc: 0.9730 - val_loss: 0.1220 - val_acc: 0.9547\n",
      "Epoch 38/50\n",
      "51000/51000 [==============================] - 361s 7ms/step - loss: 0.0745 - acc: 0.9723 - val_loss: 0.0981 - val_acc: 0.9650\n",
      "Epoch 39/50\n",
      "51000/51000 [==============================] - 353s 7ms/step - loss: 0.0709 - acc: 0.9738 - val_loss: 0.1122 - val_acc: 0.9650\n",
      "Epoch 40/50\n",
      "51000/51000 [==============================] - 353s 7ms/step - loss: 0.0661 - acc: 0.9755 - val_loss: 0.1013 - val_acc: 0.9669\n",
      "Epoch 41/50\n",
      "51000/51000 [==============================] - 356s 7ms/step - loss: 0.0660 - acc: 0.9758 - val_loss: 0.1214 - val_acc: 0.9579\n",
      "Epoch 42/50\n",
      "51000/51000 [==============================] - 353s 7ms/step - loss: 0.0610 - acc: 0.9773 - val_loss: 0.1001 - val_acc: 0.9686\n",
      "Epoch 43/50\n",
      "51000/51000 [==============================] - 352s 7ms/step - loss: 0.0622 - acc: 0.9773 - val_loss: 0.1108 - val_acc: 0.9658\n",
      "Epoch 44/50\n",
      "51000/51000 [==============================] - 351s 7ms/step - loss: 0.0585 - acc: 0.9778 - val_loss: 0.1059 - val_acc: 0.9639\n",
      "Epoch 45/50\n",
      "51000/51000 [==============================] - 352s 7ms/step - loss: 0.0580 - acc: 0.9790 - val_loss: 0.1094 - val_acc: 0.9654\n",
      "Epoch 46/50\n",
      "51000/51000 [==============================] - 352s 7ms/step - loss: 0.0539 - acc: 0.9804 - val_loss: 0.0934 - val_acc: 0.9700\n",
      "Epoch 47/50\n",
      "51000/51000 [==============================] - 352s 7ms/step - loss: 0.0554 - acc: 0.9802 - val_loss: 0.1143 - val_acc: 0.9633\n",
      "Epoch 48/50\n",
      "51000/51000 [==============================] - 352s 7ms/step - loss: 0.0526 - acc: 0.9811 - val_loss: 0.0944 - val_acc: 0.9712\n",
      "Epoch 49/50\n",
      "51000/51000 [==============================] - 352s 7ms/step - loss: 0.0498 - acc: 0.9819 - val_loss: 0.0927 - val_acc: 0.9712\n",
      "Epoch 50/50\n",
      "51000/51000 [==============================] - 352s 7ms/step - loss: 0.0510 - acc: 0.9822 - val_loss: 0.1086 - val_acc: 0.9656\n"
     ]
    }
   ],
   "source": [
    "max_len = X_train.shape[1]  \n",
    "\n",
    "EPOCHS = 50\n",
    "BATCH_SIZE = 32\n",
    "\n",
    "model = rnn_model(max_len)\n",
    "history=check_model(model, X_train,y_train,X_test,y_test, EPOCHS, BATCH_SIZE)"
   ]
  },
  {
   "cell_type": "markdown",
   "metadata": {},
   "source": [
    "- plot history"
   ]
  },
  {
   "cell_type": "code",
   "execution_count": 22,
   "metadata": {},
   "outputs": [
    {
     "data": {
      "image/png": "[encoded data removed]",
      "text/plain": [
       "<Figure size 432x288 with 1 Axes>"
      ]
     },
     "metadata": {
      "needs_background": "light"
     },
     "output_type": "display_data"
    },
    {
     "data": {
      "image/png": "[encoded data removed]",
      "text/plain": [
       "<Figure size 432x288 with 1 Axes>"
      ]
     },
     "metadata": {
      "needs_background": "light"
     },
     "output_type": "display_data"
    }
   ],
   "source": [
    "def evaluate_model(history):\n",
    "    \n",
    "    fig1, ax_acc = plt.subplots()\n",
    "    plt.plot(history.history['acc'])\n",
    "    plt.plot(history.history['val_acc'])\n",
    "    plt.xlabel('Epoch')\n",
    "    plt.ylabel('Accuracy')\n",
    "    plt.title('Model - Accuracy')\n",
    "    plt.legend(['Training', 'Validation'], loc='lower right')\n",
    "    plt.grid()\n",
    "    plt.show()\n",
    "    \n",
    "    fig2, ax_loss = plt.subplots()\n",
    "    plt.plot(history.history['loss'])\n",
    "    plt.plot(history.history['val_loss'])\n",
    "    plt.xlabel('Epoch')\n",
    "    plt.ylabel('Loss')\n",
    "    plt.title('Model- Loss')\n",
    "    plt.legend(['Training', 'Validation'], loc='upper right')\n",
    "    plt.grid()\n",
    "    plt.show()\n",
    "\n",
    "evaluate_model(history)"
   ]
  },
  {
   "cell_type": "markdown",
   "metadata": {},
   "source": [
    "- Save model"
   ]
  },
  {
   "cell_type": "code",
   "execution_count": 23,
   "metadata": {},
   "outputs": [],
   "source": [
    "model.save(\"RNN_Classification_model.h5\")"
   ]
  },
  {
   "cell_type": "markdown",
   "metadata": {},
   "source": [
    "- save training history"
   ]
  },
  {
   "cell_type": "code",
   "execution_count": 24,
   "metadata": {},
   "outputs": [],
   "source": [
    "pd.DataFrame.from_dict(history.history).to_csv('history_train_classif_rnn.csv',index=False)"
   ]
  },
  {
   "cell_type": "markdown",
   "metadata": {},
   "source": [
    "- predict to all test dataset & plot confusion matrix"
   ]
  },
  {
   "cell_type": "code",
   "execution_count": 27,
   "metadata": {},
   "outputs": [
    {
     "data": {
      "image/png": "[encoded data removed]",
      "text/plain": [
       "<Figure size 360x360 with 2 Axes>"
      ]
     },
     "metadata": {
      "needs_background": "light"
     },
     "output_type": "display_data"
    }
   ],
   "source": [
    "# predict test data\n",
    "y_pred=model.predict(X_test)\n",
    "\n",
    "\n",
    "# Compute confusion matrix\n",
    "cnf_matrix = confusion_matrix(y_test.argmax(axis=1), y_pred.argmax(axis=1))\n",
    "np.set_printoptions(precision=2)\n",
    "\n",
    "\n",
    "# Plot non-normalized confusion matrix\n",
    "plot_confusion_matrix(cnf_matrix, classes=['AF', 'N'],normalize=True,\n",
    "                      title='Confusion matrix - RNN')\n"
   ]
  },
  {
   "cell_type": "markdown",
   "metadata": {},
   "source": [
    "- print calssification report"
   ]
  },
  {
   "cell_type": "code",
   "execution_count": 28,
   "metadata": {},
   "outputs": [
    {
     "name": "stdout",
     "output_type": "stream",
     "text": [
      "              precision    recall  f1-score   support\n",
      "\n",
      "          AF       0.97      0.96      0.96      4445\n",
      "           N       0.96      0.97      0.97      4555\n",
      "\n",
      "    accuracy                           0.97      9000\n",
      "   macro avg       0.97      0.97      0.97      9000\n",
      "weighted avg       0.97      0.97      0.97      9000\n",
      "\n"
     ]
    }
   ],
   "source": [
    "print(classification_report(y_test.argmax(axis=1), \n",
    "                            y_pred.argmax(axis=1), \n",
    "                            target_names=['AF', 'N']))"
   ]
  },
  {
   "cell_type": "code",
   "execution_count": null,
   "metadata": {},
   "outputs": [],
   "source": []
  }
 ],
 "metadata": {
  "kernelspec": {
   "display_name": "Python [conda env:GPU_ENV]",
   "language": "python",
   "name": "conda-env-GPU_ENV-py"
  },
  "language_info": {
   "codemirror_mode": {
    "name": "ipython",
    "version": 3
   },
   "file_extension": ".py",
   "mimetype": "text/x-python",
   "name": "python",
   "nbconvert_exporter": "python",
   "pygments_lexer": "ipython3",
   "version": "3.6.12"
  }
 },
 "nbformat": 4,
 "nbformat_minor": 4
}
